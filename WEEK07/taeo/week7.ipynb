{
 "cells": [
  {
   "cell_type": "markdown",
   "metadata": {},
   "source": [
    "-메소드\n",
    "클래스가 가지고 있는 함수를 의미\n",
    "클래스 내부의 함수의 첫 번째 매개변수는 반드시 self입력\n",
    "객체를 호출할 때 호출한 객체 자신이 전달되기 때문에 self사용"
   ]
  },
  {
   "cell_type": "code",
   "execution_count": null,
   "metadata": {},
   "outputs": [],
   "source": [
    "class 클래스 이름:\n",
    "    def 메소드 이름(self, 추가적인 매개변수) :\n",
    "        pass"
   ]
  },
  {
   "cell_type": "markdown",
   "metadata": {},
   "source": [
    "-매직 메서드\n",
    "매직 메서드는 특정 상황에서 자동으로 호출되도록 설계된 특별한 메서드들입니다.\n",
    "def__메서드이름__(self,...)"
   ]
  },
  {
   "cell_type": "code",
   "execution_count": null,
   "metadata": {},
   "outputs": [],
   "source": [
    "class Student:\n",
    "    def __init__(self, name, korean, math, english, science):\n",
    "        self.name = name    #객체가 생성될 때 필요한 초기 데이터를 설정하거나 초기 상태를 정의하는 데 사용하는 메서드\n",
    "        self.korean = korean\n",
    "        self.math = math\n",
    "        self.english = english\n",
    "        self.science = science\n",
    "\n",
    "    def get_sum(self):\n",
    "        return self.korean + self.math + self.english + self.science\n",
    "\n",
    "    def get_average(self):\n",
    "        return self.get_sum() / 4\n",
    "\n",
    "    def __str__(self):  #객체를 문자열로 변환하는 메서드\n",
    "        return \"{}\\t{}\\t{}\".format(\n",
    "            self.name,\n",
    "            self.get_sum(),\n",
    "            self.get_average(),\n",
    "        )\n",
    "# 실행 코드: 클래스 정의 외부로 이동\n",
    "students = [\n",
    "    Student(\"윤인성\", 87, 98, 88, 95),\n",
    "    Student(\"연하진\", 92, 98, 96, 98),\n",
    "    Student(\"구지연\", 76, 96, 94, 90),\n",
    "    Student(\"나선주\", 98, 92, 96, 92),\n",
    "    Student(\"윤아린\", 95, 98, 98, 98),\n",
    "]\n",
    "\n",
    "# 출력\n",
    "print(\"이름\", \"총점\", \"평균\", sep=\"\\t\")\n",
    "for student in students:\n",
    "    print(str(student)) \n",
    "# str() 함수의 매개변수로 넣으면 student의__str__()함수가 자동으로 호출됩니다.\n"
   ]
  },
  {
   "cell_type": "markdown",
   "metadata": {},
   "source": [
    "주요 매직 메서드 \n",
    "1. 객체 생성 및 초기화\n",
    ":인스턴스 생성 시 자동 호출\n",
    "\n",
    "__new__: 객체의 메모리를 할당할 때 호출됩니다.\n",
    "\n",
    "__init__: 객체 생성 후 초기화할 때 호출됩니다.\n",
    "\n",
    "__del__: 객체가 소멸될 때 호출됩니다.\n",
    "2. 연산자 관련\n",
    ":연산자를 사용할 때 자동으로 호출됩니다. \n",
    "\n",
    "__add__:   + 연산자\n",
    "__sub__:   - 연산자\n",
    "__mul__:   * 연산자\n",
    "\n",
    "__eq__:    == 연산자\n",
    "\n",
    "__lt__:    < 연산자 \n",
    "3. 문자열 관련표현\n",
    ":객체의 문자열 표현과 관련된 동작에서 호출됩니다.\n",
    "__str__:  str() 호출 시\n",
    "\n",
    "__format__: format() 함수 호출 시\n",
    "4.컨테이너 동작 관련\n",
    ":객체가 내부적으로 데이터를 저장하거나 관리하고, 그 데이터에 대해 인덱싱, 반복, 길이 측정 등의 작업을 수행할때 호출됩니다.\n",
    "\n",
    "__getitem__: 인덱싱([])을 사용할 때\n",
    "__len__: len() 함수 호출 시\n",
    "__contains__: in 연산자 호출 시\n",
    "\n",
    "\n"
   ]
  },
  {
   "cell_type": "code",
   "execution_count": null,
   "metadata": {},
   "outputs": [
    {
     "name": "stdout",
     "output_type": "stream",
     "text": [
      "__new__ called\n",
      "__init__ called\n",
      "__del__ called\n"
     ]
    }
   ],
   "source": [
    "class zero: #객체 생성 및 초기화 예시\n",
    "    def __new__(cls, *a, **k):\n",
    "        print(\"__new__ called\")\n",
    "        return super().__new__(cls)\n",
    "\n",
    "    def __init__(self):\n",
    "        print(\"__init__ called\")\n",
    "\n",
    "    def __del__(self):\n",
    "        print(\"__del__ called\")\n",
    "\n",
    "obj = zero()  # __new__ 호출 → __init__ 호출\n",
    "del obj        # __del__ 호출\n"
   ]
  },
  {
   "cell_type": "code",
   "execution_count": 1,
   "metadata": {},
   "outputs": [
    {
     "name": "stdout",
     "output_type": "stream",
     "text": [
      "50\n"
     ]
    }
   ],
   "source": [
    "class Number:\n",
    "    def __init__(self, value):\n",
    "        self.value = value\n",
    "\n",
    "    def __add__(self, other):\n",
    "        return self.value + other.value\n",
    "\n",
    "a = Number(20)\n",
    "b = Number(30)\n",
    "print(a + b)  # __add__ 호출\n"
   ]
  },
  {
   "cell_type": "code",
   "execution_count": 3,
   "metadata": {},
   "outputs": [
    {
     "name": "stdout",
     "output_type": "stream",
     "text": [
      "2\n",
      "3\n"
     ]
    }
   ],
   "source": [
    "class CustomList:\n",
    "    def __init__(self, items):\n",
    "        self.items = items\n",
    "\n",
    "    def __getitem__(self, index):\n",
    "        return self.items[index]\n",
    "\n",
    "    def __len__(self):\n",
    "        return len(self.items)\n",
    "\n",
    "obj = CustomList([1, 2, 3])\n",
    "print(obj[1])  # __getitem__ 호출, 결과: 2\n",
    "print(len(obj))  # __len__ 호출, 결과: 3\n"
   ]
  },
  {
   "cell_type": "code",
   "execution_count": null,
   "metadata": {},
   "outputs": [],
   "source": []
  },
  {
   "cell_type": "code",
   "execution_count": null,
   "metadata": {},
   "outputs": [],
   "source": []
  },
  {
   "cell_type": "markdown",
   "metadata": {},
   "source": [
    "데코레이터\n",
    ":파이썬의 데코레이터는 기본적으로 다른 함수를 수정하지 않고 그 기능을 확장하거나 변경할 수 있도록 해주는 고급기능이다.\n",
    "데코레이터는 함수를 다른 함수의 인자로써 받아,어떤 처리를 한 후에 그 함수를 반환하거나 다른 함수를 반환합니다.\n",
    "이런 방식으로,기존 함수의 동작을 변경하거나 확장하는데 사용됩니다.\n"
   ]
  },
  {
   "cell_type": "code",
   "execution_count": null,
   "metadata": {},
   "outputs": [],
   "source": [
    "def my_decorator(func):\n",
    "    def wrapper():\n",
    "        print(\"함수 호출 전\")  # func 함수 실행 전 실행\n",
    "        func()                # 실제 func 함수 호출\n",
    "        print(\"함수 호출 후\")  # func 함수 실행 후 실행\n",
    "    return wrapper\n",
    "@my_decorator # 데코레이터가 say_hello=my_decorator(say_hello) 구문의 역할을 해준다\n",
    "def say_hello():\n",
    "    print(\"안녕하세요\")\n",
    "    \n",
    "\n",
    "say_hello()"
   ]
  },
  {
   "cell_type": "markdown",
   "metadata": {},
   "source": [
    "함수의 실행 시간을 측정해서 출력해주는 데코레이터(아래의 코드)"
   ]
  },
  {
   "cell_type": "code",
   "execution_count": null,
   "metadata": {},
   "outputs": [],
   "source": [
    "import time\n",
    "\n",
    "def timing_decorator(func):\n",
    "    def wrapper(*args, **kwargs):\n",
    "        start_time = time.time()  # 함수 실행 전 현재 시간 기록\n",
    "        result = func(*args, **kwargs)  # 데코레이터로 감싼 함수 실행\n",
    "        end_time = time.time()  # 함수 실행 후 현재 시간 기록\n",
    "        \n",
    "        # 실행 시간 출력\n",
    "        print(f\"[타이밍] 함수명: {func.__name__} 실행에 {end_time - start_time:.6f}초 소요되었습니다.\")\n",
    "        return result  # 원래 함수의 결과 반환\n",
    "    return wrapper\n",
    "@timing_decorator\n",
    "def sample_function(n):\n",
    "    sum = 0\n",
    "    for i in range(n):\n",
    "        sum += i\n",
    "    return sum\n",
    "\n",
    "\n",
    "sample_function(47820) # 시간측정"
   ]
  },
  {
   "cell_type": "markdown",
   "metadata": {},
   "source": [
    "함수를 실행하기 전에 사용자에게 진행 여부를 확인하는 데코레이터(아래의 코드)"
   ]
  },
  {
   "cell_type": "code",
   "execution_count": null,
   "metadata": {},
   "outputs": [],
   "source": [
    "def confirm(func):\n",
    "    def wrapper(*a, **b):\n",
    "        if input(\"Proceed? (yes/no): \").lower() == \"yes\":\n",
    "            return func(*a, **b)\n",
    "        else:\n",
    "            print(\"Canceled.\")\n",
    "    return wrapper\n",
    "\n",
    "@confirm\n",
    "def say_hello():\n",
    "    print(\"Hello!\")\n",
    "\n",
    "say_hello()"
   ]
  },
  {
   "cell_type": "markdown",
   "metadata": {},
   "source": [
    "게터와 세터를 사용하는 이유\n",
    ":게터와 세터는 프라이빗 변수의 값을 추출하거나 변경할 목적으로, 간접적으로 속성에 접근하도록 해주는 함수입니다.\n",
    "즉, 객체의 속성에 접근하거나 값을 설정할 때 직접 접근이 제한될때, 대신 메서드를 통해 간접적으로 접근하도록 하는 방식입니다.\n"
   ]
  },
  {
   "cell_type": "code",
   "execution_count": null,
   "metadata": {},
   "outputs": [],
   "source": [
    "import math \n",
    "class Circle:\n",
    "    def __init__(self, radius):\n",
    "        self.__radius = radius # 프라이빗 변수를 사용했으므로 클래스 내부의 변수를 \n",
    "                               # 외부에서 사용할수 없음\n",
    "\n",
    "    def get_circumference(self):\n",
    "        return 2 * math.pi * self.__radius\n",
    "\n",
    "    def get_area(self):\n",
    "        return math.pi * (self.__radius ** 2)\n",
    "\n",
    "    # 게터와 세터를 선언합니다., \n",
    "    def get_radius(self):\n",
    "        return self.__radius\n",
    "\n",
    "    def set_radius(self, value):\n",
    "        self.__radius = value\n",
    "\n",
    "\n",
    "# 원의 둘레와 넓이를 구합니다.\n",
    "circle = Circle(10)\n",
    "print(\"# 원의 둘레와 넓이를 구합니다.\")\n",
    "print(\"원의 둘레:\", circle.get_circumference())\n",
    "print(\"원의 넓이:\", circle.get_area())\n",
    "print()\n",
    "\n",
    "# 간접적으로 _radius에 접근합니다.\n",
    "print(\"# __radius에 접근합니다.\")\n",
    "print(circle.get_radius())\n",
    "print()\n",
    "\n",
    "# 원의 둘레와 넓이를 구합니다.\n",
    "circle.set_radius(2)\n",
    "print(\"# 반지름을 변경하고 원의 둘레와 넓이를 구합니다.\")\n",
    "print(\"원의 둘레:\", circle.get_circumference())\n",
    "print(\"원의 넓이:\", circle.get_area())\n"
   ]
  },
  {
   "cell_type": "code",
   "execution_count": null,
   "metadata": {},
   "outputs": [],
   "source": [
    "게터 (Getter):속성 값을 읽기 위해 사용됩니다. 예를 들어, 어떤 객체의 속성을 호출할 때 그 값을 반환하는 역할을 합니다.\n",
    "세터 (Setter):세터는 속성 값을 설정하거나 변경할 때 사용됩니다. 값을 단순히 설정할 수도 있고, 값의 유효성을 검증하는 추가 로직을 수행할 수도 있습니다.\n"
   ]
  },
  {
   "cell_type": "code",
   "execution_count": 4,
   "metadata": {},
   "outputs": [
    {
     "name": "stdout",
     "output_type": "stream",
     "text": [
      "Getting the radius\n",
      "5\n"
     ]
    }
   ],
   "source": [
    "class Circle:\n",
    "    def __init__(self, radius):\n",
    "        self._radius = radius  # 속성 저장\n",
    "\n",
    "    @property  # 게터 설정\n",
    "    def radius(self):\n",
    "        print(\"Getting the radius\")  # 디버깅을 위해 메시지 출력\n",
    "        return self._radius\n",
    "\n",
    "# Circle 객체 생성\n",
    "c = Circle(5)\n",
    "print(c.radius)  # 게터 호출\n"
   ]
  },
  {
   "cell_type": "code",
   "execution_count": null,
   "metadata": {},
   "outputs": [],
   "source": [
    "class Circle:\n",
    "    def __init__(self, radius):\n",
    "        self._radius = radius\n",
    "\n",
    "    @property  # 게터\n",
    "    def radius(self):\n",
    "        return self._radius\n",
    "\n",
    "    @radius.setter  # 세터 설정\n",
    "    def radius(self, value):\n",
    "        if value < 0:\n",
    "            raise ValueError(\"반지름은 0보다 작을 수 없습니다.\")\n",
    "        print(f\"Setting the radius to {value}\")\n",
    "        self._radius = value\n",
    "\n",
    "# Circle 객체 생성\n",
    "c = Circle(5)\n",
    "c.radius = 10  # 세터 호출\n",
    "print(c.radius)  # 게터 호출\n"
   ]
  }
 ],
 "metadata": {
  "kernelspec": {
   "display_name": "my_env",
   "language": "python",
   "name": "python3"
  },
  "language_info": {
   "codemirror_mode": {
    "name": "ipython",
    "version": 3
   },
   "file_extension": ".py",
   "mimetype": "text/x-python",
   "name": "python",
   "nbconvert_exporter": "python",
   "pygments_lexer": "ipython3",
   "version": "3.11.9"
  }
 },
 "nbformat": 4,
 "nbformat_minor": 2
}
