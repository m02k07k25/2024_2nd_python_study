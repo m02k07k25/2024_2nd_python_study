{
 "cells": [
  {
   "cell_type": "markdown",
   "metadata": {
    "vscode": {
     "languageId": "plaintext"
    }
   },
   "source": [
    "# Python 7주차\n",
    "\n",
    "## 1. Singleton\n",
    "클래스는 객체를 만드는 틀이고, 객체를 만들기 위해서는 생성자를 이용해야합니다.<br>\n",
    "객체는 기본적으로 무한히 생성될 수 있지만, 때로는 객체 생성을 제한해야하는 상황이 올 수 있는데<br>\n",
    "대표적으로 객체를 오로지 한 개만 생성될 수 있도록 보장하는 것을 '싱글톤'이라고 합니다.<br>\n",
    "<br>\n",
    "생성자는 기본적으로 public 제어자를 사용하기에 외부에서 생성자를 이용해 무한히 객체를 만들 수 있습니다.<br>\n",
    "즉, 객체의 수를 제한하고 싶다면 생성자에 private 제어자를 사용하여 외부에서 생성자에 접근할 수 없게 막으면 됩니다. <br>"
   ]
  },
  {
   "cell_type": "code",
   "execution_count": null,
   "metadata": {},
   "outputs": [
    {
     "name": "stdout",
     "output_type": "stream",
     "text": [
      "s1과 s2는 같은 객체입니다.\n",
      "n1과 n2는 다른 객체입니다.\n",
      "Exception: Singleton 객체는 한 개만 생성되어야 합니다.\n"
     ]
    }
   ],
   "source": [
    "class SingletonException(Exception):\n",
    "    def __init__(self):\n",
    "        super().__init__(\"Singleton 객체는 한 개만 생성되어야 합니다.\")\n",
    "\n",
    "\n",
    "class Singleton:\n",
    "    # 클래스 변수를 사용하여 객체를 저장\n",
    "    _instance = None\n",
    "\n",
    "    @classmethod\n",
    "    def get_instance(cls):\n",
    "        if not cls._instance:\n",
    "            cls._instance = cls()\n",
    "        return cls._instance\n",
    "\n",
    "    def __init__(self):\n",
    "        if Singleton._instance:\n",
    "            raise SingletonException\n",
    "\n",
    "class NormalClass:\n",
    "    pass\n",
    "\n",
    "\n",
    "def main():\n",
    "    s1 = Singleton.get_instance()\n",
    "    s2 = Singleton.get_instance()\n",
    "\n",
    "    n1 = NormalClass()\n",
    "    n2 = NormalClass()\n",
    "\n",
    "    if s1 is s2:\n",
    "        print(\"s1과 s2는 같은 객체입니다.\")\n",
    "\n",
    "    else:\n",
    "        print(\"s1과 s2는 다른 객체입니다.\")\n",
    "\n",
    "\n",
    "    if n1 is n2:\n",
    "        print(\"n1과 n2는 같은 객체입니다.\")\n",
    "\n",
    "    else:\n",
    "        print(\"n1과 n2는 다른 객체입니다.\")\n",
    "\n",
    "    s3 = Singleton()\n",
    "\n",
    "\n",
    "if __name__ == \"__main__\":\n",
    "    try:\n",
    "        main()\n",
    "\n",
    "    except SingletonException as exception:\n",
    "        print(\"Exception:\", exception)"
   ]
  },
  {
   "cell_type": "markdown",
   "metadata": {},
   "source": [
    "싱글톤은 공통된 자원 관리를 하거나, 인스턴스를 동일한 상태로 유지하고 싶을때 효율적입니다. <br>\n",
    "예를 들어, 데이터베이스를 관리할 때 연결 인스턴스를 하나로 통합하여 관리하면 동일한 연결을 재사용할 수 있어 메모리를 절약할 수 있습니다. <br>"
   ]
  },
  {
   "cell_type": "markdown",
   "metadata": {},
   "source": [
    "## 2. 상속과 오버라이딩\n",
    "\n",
    "상속은 클래스가 다른 클래스로부터 필드와 메소드를 받아 사용하는 것으로, 상속하는 클래스를 부모 클래스 상속받는 클래스를 자식 클래스로 정의합니다. <br>\n",
    "오버라이딩은 '메소드 재정의'입니다. 자식 클래스에서 부모 클래스의 메소드를 새롭게 정의하여, 부모 클래스에서 제공되는 메소드와 다른 기능을 수행할 수 있습니다. <br>\n",
    "<br>\n",
    "인스턴스는 우선 self를 통해 자신의 메소드를 우선적으로 찾습니다. 그러나, 만약 자신의 메소드가 없다면 이후 자신을 상속한 부모 클래스로부터 메소드를 찾습니다. <br>\n",
    "즉, 인스턴스가 자신의 클래스로부터 메소드를 우선적으로 찾은 이후에 부모 클래스에서 메소드를 찾기 때문에 오버라이딩이 이루어질 수 있습니다."
   ]
  },
  {
   "cell_type": "code",
   "execution_count": null,
   "metadata": {},
   "outputs": [
    {
     "name": "stdout",
     "output_type": "stream",
     "text": [
      "자식 인스턴스의 get_act(): 15\n",
      "부모 인스턴스의 get_act(): 8\n"
     ]
    }
   ],
   "source": [
    "class Calculator:\n",
    "    def __init__(self, a, b):\n",
    "        self.a = a\n",
    "        self.b = b\n",
    "\n",
    "    def get_act(self):\n",
    "        return self.a + self.b\n",
    "    \n",
    "class ImprovedCalculator(Calculator):\n",
    "    def __init__(self, a, b):\n",
    "        super().__init__(a, b)\n",
    "\n",
    "    # Override\n",
    "    def get_act(self, from_child = True):\n",
    "        if from_child is False:\n",
    "            return super().get_act()\n",
    "        return self.a * self.b\n",
    "\n",
    "def main():\n",
    "    a = 5\n",
    "    b = 3\n",
    "\n",
    "    calculator = ImprovedCalculator(a, b)\n",
    "    print(f\"자식 인스턴스의 get_act(): {calculator.get_act()}\")\n",
    "    print(f\"부모 인스턴스의 get_act(): {calculator.get_act(False)}\")\n",
    "\n",
    "\n",
    "if __name__ == \"__main__\":\n",
    "    main()"
   ]
  },
  {
   "cell_type": "markdown",
   "metadata": {},
   "source": [
    "## 3. 메타클래스와 Object 클래스\n",
    "Python은 모든 것을 객체로 처리하는데, 객체는 클래스로부터 생성됩니다. 그리고 이러한 클래스를 생성하고 관리하는 클래스가 존재하는데 이를 '메타클래스'라고 합니다. <br>\n",
    "모든 클래스는 기본적으로 type이라는 메타클래스로부터 생성됩니다."
   ]
  },
  {
   "cell_type": "code",
   "execution_count": 6,
   "metadata": {},
   "outputs": [
    {
     "name": "stdout",
     "output_type": "stream",
     "text": [
      "<class 'type'>\n",
      "<class '__main__.MyClass'>\n"
     ]
    }
   ],
   "source": [
    "class MyClass:\n",
    "    pass\n",
    "\n",
    "def main():\n",
    "    print(type(MyClass)) \n",
    "\n",
    "    obj = MyClass()\n",
    "    print(type(obj))  \n",
    "\n",
    "if __name__ == \"__main__\":\n",
    "    main()"
   ]
  },
  {
   "cell_type": "markdown",
   "metadata": {},
   "source": [
    "메타클래스는 사용자가 직접 만들 수도 있는데, 이 경우 type을 상속받아야 합니다."
   ]
  },
  {
   "cell_type": "code",
   "execution_count": null,
   "metadata": {},
   "outputs": [
    {
     "name": "stdout",
     "output_type": "stream",
     "text": [
      "Creating class MyClass\n",
      "Hello, World!\n"
     ]
    }
   ],
   "source": [
    "class MyMeta(type):\n",
    "    def __new__(cls, name, bases, dct):\n",
    "        print(f\"Creating class {name}\")\n",
    "        dct[\"Hello\"] = \"Hello, World!\"\n",
    "        return super().__new__(cls, name, bases, dct)\n",
    "\n",
    "# MyMeta를 메타클래스로 사용\n",
    "class MyClass(metaclass=MyMeta):\n",
    "    pass\n",
    "\n",
    "def main():\n",
    "    print(MyClass.Hello)\n",
    "\n",
    "if __name__ == \"__main__\":\n",
    "    main()"
   ]
  },
  {
   "cell_type": "markdown",
   "metadata": {},
   "source": [
    "메타클래스는 기본적으로 4개의 매개변수를 받습니다. cls는 메타클래스 그 자체를 의미하는 self와 같습니다.<br>\n",
    "name은 메타클래스를 기반으로 생성되는 클래스의 이름을 의미합니다.<br>\n",
    "bases는 해당 클래스가 어떤 클래스를 상속받는지를 튜플 형태로 저장합니다.<br>\n",
    "dct는 클래스의 필드와 메소드를 딕셔너리 형태로 저장합니다.<br>\n",
    "<br>\n",
    "위의 코드와 같이 클래스에 Hello를 선언하지 않아도, MyMeta에서 클래스 생성을 관리하고 자체적으로 Hello라는 변수를 가지고 있으므로, <br>\n",
    "이를 기반으로 생성된 클래스의 객체는 Hello를 갖게 됩니다.<br>\n",
    "<br>\n",
    "메타클래스는 그 외에도 다양한 메소드를 지원하지만 여기서는 new만 다룹니다.\n",
    "<br>\n",
    "<br>\n",
    "\n",
    "### object 클래스\n",
    "모든 메타클래스는 type 클래스로부터 상속을 받고, 모든 예외는 Exception이라는 클래스로부터 상속을 받습니다.<br>\n",
    "인스턴스를 초기화할 때 사용하는 생성자는 init입니다. 또한, 우리는 str을 사용하여 객체를 출력했습니다. <br>\n",
    "type 클래스도, Exception 클래스도, 그리고 우리가 정의하는 클래스도 모두 init을 생성자로 사용하고, str을 객체의 문자열을 표현할 때 사용합니다.<br>\n",
    "즉, 모든 클래스는 일부 메소드를 똑같이 사용하고, 각자의 작동에 맞게 오버라이딩할뿐입니다.<br>\n",
    "이는 모든 클래스가 공통된 조상 클래스로부터 상속받는다는 것을 의미합니다.<br>\n",
    "이 클래스의 이름은 object이며, Python의 최상위 클래스로 모든 클래스는 기본적으로 object 클래스를 상속받습니다.<br>\n",
    "<br>\n",
    "object 클래스는 글을 쓰는 시점 기준으로 총 27개의 매직 클래스로 구성되어 있습니다.<br>\n",
    "모두 클래스의 기본적이면서도 핵심적인 기능을 가지고 있습니다.<br>\n",
    "여기서는 가장 많이 사용한 str의 오버라이딩을 예시로 다루겠습니다.\n"
   ]
  },
  {
   "cell_type": "code",
   "execution_count": 5,
   "metadata": {},
   "outputs": [
    {
     "name": "stdout",
     "output_type": "stream",
     "text": [
      "부모 클래스의 __str__(): <__main__.StrOverride object at 0x0000019789F64230>\n",
      "자식 클래스의 __str__(): Value: 3\n"
     ]
    }
   ],
   "source": [
    "class StrOverride(object):\n",
    "    def __init__(self, value):\n",
    "        self.value = value\n",
    "\n",
    "    def __str__(self, from_child = True):\n",
    "        if from_child is False:\n",
    "            return super().__str__()\n",
    "        return f\"Value: {self.value}\"\n",
    "    \n",
    "def main():\n",
    "    obj = StrOverride(3)\n",
    "    print(f\"부모 클래스의 __str__(): {obj.__str__(False)}\")\n",
    "    print(f\"자식 클래스의 __str__(): {obj}\")\n",
    "\n",
    "if __name__ == \"__main__\":\n",
    "    main()"
   ]
  },
  {
   "cell_type": "markdown",
   "metadata": {},
   "source": [
    "str 메소드는 기본적으로 '비공식적이고 사람이 읽기 쉬운 문자열 표현'을 반환합니다.<br>\n",
    "기본적으로 어떤 모듈의 클래스명으로부터 호출되었는지, 그리고 그것이 저장된 메모리 주소가 어딘지를 반환합니다.<br>\n",
    "이를 print할 경우 위와 같은 값이 나오는 이유입니다.<br>\n",
    "하지만, 우리는 이 메소드를 오버라이딩함으로써 객체를 print할 경우 우리가 원하는 값이 나오도록 기능을 변경할 수 있습니다.<br>\n",
    "이와 같이 object 클래스의 메소드는 사용자에 의해 오버라이딩되는 경우가 많습니다.<br>\n",
    "하지만 기본적이고 강력한 기능을 제공하므로, 필요에 따라 그 원본 메소드를 호출해야하는 경우도 있을 수 있습니다."
   ]
  },
  {
   "cell_type": "markdown",
   "metadata": {},
   "source": [
    "## 4. 디스크립터, 매직 메소드와 연산자 오버로딩\n",
    "### 디스크립터\n",
    "파이썬에서 속성 접근을 제어하기 위한 특별한 객체를 디스크립터라고 합니다.<br>\n",
    "디스크립터는 __ get __, __ set __, __ delete __가 있고, 이는 getter와 setter 메소드와 비슷하게 동작하지만, 전자는 코드의 재사용성을 높입니다. <br>"
   ]
  },
  {
   "cell_type": "code",
   "execution_count": null,
   "metadata": {},
   "outputs": [
    {
     "name": "stdout",
     "output_type": "stream",
     "text": [
      "Your card is\n",
      "Spade 10\n",
      "Spade 10\n",
      "Spade J\n",
      "Spade Q\n",
      "Spade K\n"
     ]
    }
   ],
   "source": [
    "class CardAttribute:\n",
    "    def __init__(self, default=\"\"):\n",
    "        self.default = default\n",
    "        self.data = {}\n",
    "\n",
    "    def __get__(self, instance, owner):\n",
    "        if instance is None:\n",
    "            return self\n",
    "        return self.data.get(instance, self.default)\n",
    "\n",
    "    def __set__(self, instance, value):   \n",
    "        if value not in [\"Spade\", \"Heart\", \"Diamond\", \"Clover\", \"A\", \"2\", \"3\", \"4\", \"5\", \"6\", \"7\", \"8\", \"9\", \"10\", \"J\", \"Q\", \"K\"]:\n",
    "            raise ValueError\n",
    "        \n",
    "        self.data[instance] = value\n",
    "\n",
    "    def __delete__(self, instance):\n",
    "        if instance in self.data:\n",
    "            del self.data[instance]\n",
    "\n",
    "\n",
    "class Card:\n",
    "    shape = CardAttribute(\"none\")\n",
    "    number = CardAttribute(\"none\")\n",
    "\n",
    "    def __str__(self):\n",
    "        return f\"{self.shape} {self.number}\"\n",
    "\n",
    "\n",
    "def main():\n",
    "    # 기존 카드\n",
    "    card = [Card() for i in range(4)]\n",
    "    card[0].shape, card[0].number = \"Spade\", \"10\"\n",
    "    card[1].shape, card[1].number = \"Spade\", \"J\"\n",
    "    card[2].shape, card[2].number = \"Spade\", \"Q\"\n",
    "    card[3].shape, card[3].number = \"Spade\", \"K\"\n",
    "\n",
    "    user_card = Card()\n",
    "\n",
    "    is_royal_straight_flush = False\n",
    "\n",
    "    # 사용자 입력\n",
    "    insert = input(\"Input your last card (ex. Spade A): \")\n",
    "    shape, number = insert.split()\n",
    "\n",
    "    # 입력된 값을 디스크립터를 통해 설정\n",
    "    user_card.shape = shape\n",
    "    user_card.number = number\n",
    "\n",
    "    # 로열 스트레이트 플러시 여부 확인\n",
    "    if str(user_card) == \"Spade A\":\n",
    "        is_royal_straight_flush = True\n",
    "\n",
    "    if is_royal_straight_flush:\n",
    "        print(\"It's Royal Straight Flush!\")\n",
    "\n",
    "    print(\"Your card is\")\n",
    "    print(user_card.shape, user_card.number)\n",
    "    for i in range(4):\n",
    "        print(card[i])\n",
    "\n",
    "    del user_card.shape\n",
    "    del user_card.number\n",
    "\n",
    "\n",
    "if __name__ == \"__main__\":\n",
    "    try:\n",
    "        main()\n",
    "\n",
    "    except ValueError as exception:\n",
    "        print(\"Invalid value\")\n",
    "\n",
    "    except Exception as exception:\n",
    "        print(\"Exception:\", exception)"
   ]
  },
  {
   "cell_type": "markdown",
   "metadata": {},
   "source": [
    "위와 같이 getter, setter 메소드를 사용하지 않고 오로지, user_card.shape만으로 값을 변경 및 호출할 수 있습니다.<br>\n",
    "위의 작업이 불필요해보일 수도 있고, 실제로도 대체할 수 있는 수단이 많아서 거의 사용되지 않는 기능이지만 파이썬의 객체 지향의 중요한 성질 중 하나입니다.<br>\n",
    "<br>\n",
    "\n",
    "### 매직 메소드와 연산자 오버로딩\n",
    "매직 메소드는 파이썬에서 클래스에 특별한 기능을 부여하기 위해 미리 정의된 특별한 이름을 가진 메소드로, 우리가 가장 많이 접했을 __ init __과 __ str __도 매직 메소드입니다.<br>\n",
    "방금 언급한 디스크립터도 마찬가지로 매직 메소드입니다."
   ]
  },
  {
   "cell_type": "code",
   "execution_count": null,
   "metadata": {},
   "outputs": [],
   "source": [
    "class MagicMethods:\n",
    "    # 해당 매직 메소드는 객체를 초기화할 때 사용합니다.(생성자)\n",
    "    def __init__(self):\n",
    "        print(\"생성자 호출\")\n",
    "\n",
    "    # 해당 매직 메소드는 객체를 출력할 때 사용합니다.\n",
    "    def __str__(self):\n",
    "        return \"객체 출력\"\n",
    "\n",
    "    # 해당 매직 메소드는 객체를 해제할 때 사용합니다.(소멸자)\n",
    "    def __del__(self):\n",
    "        print(\"소멸자 호출\")"
   ]
  },
  {
   "cell_type": "markdown",
   "metadata": {},
   "source": [
    "연산자 오버로딩을 하기 앞서, 오버로딩이란 같은 이름의 메소드 여러개를 가지면서 매개변수의 유형과 개수가 달라도 되도록 하는 기술로<br>\n",
    "C++, Java와 같은 객체 지향 프로그래밍 언어에서는 지원하지만 Python에서는 가변 매개변수를 통해 구현을 할 수 있을 뿐 직접 지원하지는 않습니다.<br>\n",
    "<br>\n",
    "그러나 Python은 C++과 같이 연산자 오버로딩을 지원하며, 기존 연산자의 동작을 새롭게 정의할 수 있습니다.<br>\n",
    "연산자 오버로딩을 하기 위해서는 매직 메소드를 사용하여야 하고, 여기서는 +와 - 그리고 *를 오버로딩하여 벡터의 합, 차, 내적을 구하는 코드를 만들었습니다. <br>"
   ]
  },
  {
   "cell_type": "code",
   "execution_count": 2,
   "metadata": {},
   "outputs": [
    {
     "name": "stdout",
     "output_type": "stream",
     "text": [
      "v1: (1, 6)\n",
      "v2: (3, 3)\n",
      "v1 + v2 = (4, 9)\n",
      "v1 - v2 = (-2, 3)\n",
      "v1 * v2 = 21\n"
     ]
    }
   ],
   "source": [
    "class Vector:\n",
    "    def __init__(self, x, y):\n",
    "        self.x = x\n",
    "        self.y = y\n",
    "\n",
    "    def __str__(self):\n",
    "        return f\"({self.x}, {self.y})\"\n",
    "    \n",
    "    def __add__(self, other):\n",
    "        return Vector(x=self.x + other.x, y=self.y + other.y)\n",
    "    \n",
    "    def __sub__(self, other):\n",
    "        return Vector(x=self.x - other.x, y=self.y - other.y)\n",
    "    \n",
    "    def __mul__(self, other):\n",
    "        return self.x * other.x + self.y * other.y\n",
    "    \n",
    "\n",
    "def main():\n",
    "    v1 = Vector(1, 6)\n",
    "    v2 = Vector(3, 3)\n",
    "\n",
    "    print(f\"v1: {v1}\")\n",
    "    print(f\"v2: {v2}\")\n",
    "\n",
    "    v3 = v1 + v2\n",
    "    print(f\"v1 + v2 = {v3}\")\n",
    "\n",
    "    v4 = v1 - v2\n",
    "    print(f\"v1 - v2 = {v4}\")\n",
    "\n",
    "    v5 = v1 * v2\n",
    "    print(f\"v1 * v2 = {v5}\")\n",
    "\n",
    "\n",
    "if __name__ == \"__main__\":\n",
    "    try:\n",
    "        main()\n",
    "\n",
    "    except ValueError as exception:\n",
    "        print(\"Invalid value\")"
   ]
  },
  {
   "cell_type": "markdown",
   "metadata": {},
   "source": [
    "other은 연산되는 다른 객체(벡터)일 뿐, self와 같이 예약어가 아니므로 other 대신 다른 것을 써도 코드에 문제는 없습니다.<br>\n",
    "위와 같이 연산자를 오버로딩하여, 기존 연산자의 기능과 다른 기능을 사용할 수 있습니다."
   ]
  },
  {
   "cell_type": "markdown",
   "metadata": {},
   "source": [
    "## 5. 추상화와 인터페이스\n",
    "클래스는 상속 받은 클래스의 메소드를 재정의할 수 있고, 이를 오버라이딩이라고 했습니다. <br>\n",
    "다른 말로, 상위 클래스(부모 클래스)에서 올바르게 구현되지 않는다고 해도 하위 클래스(자식 클래스)에서 올바르게 재정의되면 실행에 문제가 없습니다."
   ]
  },
  {
   "cell_type": "code",
   "execution_count": 32,
   "metadata": {},
   "outputs": [
    {
     "name": "stdout",
     "output_type": "stream",
     "text": [
      "2.0\n"
     ]
    }
   ],
   "source": [
    "class Parent:\n",
    "    def strange_method(self):\n",
    "        print(4/0)\n",
    "\n",
    "class Child(Parent):\n",
    "    def strange_method(self):\n",
    "        print(4/2)\n",
    "\n",
    "def main():\n",
    "    child = Child()\n",
    "    child.strange_method()\n",
    "\n",
    "if __name__ == \"__main__\":\n",
    "    try:\n",
    "        main()\n",
    "\n",
    "    except ZeroDivisionError as exception:\n",
    "        print(\"ZeroDivisionError:\", exception)"
   ]
  },
  {
   "cell_type": "markdown",
   "metadata": {},
   "source": [
    "위의 경우 부모 클래스의 메소드가 0으로 나누는 작업을 하기 때문에 ZeroDivisionError가 발생해야 합니다.<br>\n",
    "그러나, 자식 클래스가 메소드를 재정의하였기 때문에 정상적인 값이 출력됩니다. <br>\n",
    "즉, 부모 클래스에서 메소드를 선언하고 정의하지 않는다고 해도, 자식 클래스에서 이를 오버라이딩하면 아무런 이상이 없습니다.<br>\n",
    "<br>\n",
    "부모 클래스로부터 상속받는 자식 클래스가 많다면, 그 자식들에게 맞는 메소드로 각자 재정의하여 메소드의 재사용성을 높일 수 있습니다.<br>\n",
    "이 경우 부모 클래스는 메소드를 정의할 필요 없이 선언만 하면 됩니다. 자식이 모두 정의하기 때문입니다.<br>\n",
    "이런 작업을 추상화라고 하고, 클래스 내에서 메소드가 구현되어 있지 않아 상속을 받은 클래스가 상속하여 메소드를 구현해야 하는 이런 메소드를 '추상 메소드'라고 부릅니다."
   ]
  },
  {
   "cell_type": "code",
   "execution_count": 2,
   "metadata": {},
   "outputs": [
    {
     "name": "stdout",
     "output_type": "stream",
     "text": [
      "I am a child1\n",
      "I am a child2\n"
     ]
    }
   ],
   "source": [
    "class Parent:\n",
    "    # Abstract Method\n",
    "    def i_am(self):\n",
    "        pass\n",
    "\n",
    "class Child1(Parent):\n",
    "    def i_am(self):\n",
    "        print(\"I am a child1\")\n",
    "\n",
    "class Child2(Parent):\n",
    "    def i_am(self):\n",
    "        print(\"I am a child2\")\n",
    "\n",
    "def main():\n",
    "    child1 = Child1()\n",
    "    child2 = Child2()\n",
    "\n",
    "    child1.i_am()\n",
    "    child2.i_am()\n",
    "\n",
    "if __name__ == \"__main__\":\n",
    "    main()"
   ]
  },
  {
   "cell_type": "markdown",
   "metadata": {},
   "source": [
    "### 인터페이스\n",
    "Java는 인터페이스를 지원하여 객체 간의 결합을 약화시킵니다. 이는 코드의 유연한 설계와 확장성에 큰 기여를 합니다.<br>\n",
    "Python에서는 기본적으로 인터페이스를 직접 지원하지는 않지만, 추상화를 통해 인터페이스를 만들 수 있습니다."
   ]
  },
  {
   "cell_type": "code",
   "execution_count": 4,
   "metadata": {},
   "outputs": [
    {
     "name": "stdout",
     "output_type": "stream",
     "text": [
      "Gold: 10000\n",
      "None\n",
      "Gold: 7000\n",
      "None\n",
      "Gold: 10000\n",
      "None\n",
      "Gold: 8000\n",
      "None\n"
     ]
    }
   ],
   "source": [
    "class Balance:\n",
    "    gold = 10000\n",
    "\n",
    "    def buy_item(self, price):\n",
    "        pass\n",
    "\n",
    "    def sell_item(self, price):\n",
    "        pass\n",
    "\n",
    "class Sword(Balance):\n",
    "    def buy_item(self):\n",
    "        if self.gold < 3000:\n",
    "            return \"Not enough gold\"\n",
    "        \n",
    "        self.gold -= 3000\n",
    "\n",
    "    def sell_item(self):\n",
    "        self.gold += 1500\n",
    "\n",
    "class Shield(Balance):\n",
    "    def buy_item(self):\n",
    "        if self.gold < 2000:\n",
    "            return \"Not enough gold\"\n",
    "        \n",
    "        self.gold -= 2000\n",
    "\n",
    "    def sell_item(self):\n",
    "        self.gold += 1000\n",
    "\n",
    "def main():\n",
    "    sword = Sword()\n",
    "    shield = Shield()\n",
    "\n",
    "    print(f\"Gold: {sword.gold}\")\n",
    "    print(sword.buy_item())\n",
    "    print(f\"Gold: {sword.gold}\")\n",
    "    print(sword.sell_item())\n",
    "\n",
    "    print(f\"Gold: {shield.gold}\")\n",
    "    print(shield.buy_item())\n",
    "    print(f\"Gold: {shield.gold}\")\n",
    "    print(shield.sell_item())\n",
    "\n",
    "\n",
    "if __name__ == \"__main__\":\n",
    "    main()\n",
    "    "
   ]
  },
  {
   "cell_type": "markdown",
   "metadata": {},
   "source": [
    "이 코드에서는 Gold의 값이 서로의 객체가 반영하지 않습니다. 이를 해결하기 위해 두 객체가 모두 같은 클래스 객체로부터 상속 받아야 합니다.<br>\n",
    "싱글톤을 이용하여 객체를 하나만 생성한다면 해결할 수 있습니다."
   ]
  },
  {
   "cell_type": "code",
   "execution_count": null,
   "metadata": {},
   "outputs": [
    {
     "name": "stdout",
     "output_type": "stream",
     "text": [
      "보유 골드: 10000\n",
      "sword 구매에 성공하였습니다. 남은 골드: 7000\n",
      "sword 판매에 성공하였습니다. 남은 골드: 8500\n",
      "shield 판매에 성공하였습니다. 남은 실드: 6500\n",
      "shield 구매에 성공하였습니다. 남은 골드: 7500\n"
     ]
    }
   ],
   "source": [
    "class SingletonException(Exception):\n",
    "    def __init__(self):\n",
    "        super().__init__(\"Singleton instance should be only one.\")\n",
    "\n",
    "# Singleton\n",
    "class Balance:\n",
    "    _instance = None\n",
    "    \n",
    "    def __init__(self):\n",
    "        if Balance._instance:\n",
    "            raise SingletonException\n",
    "        Balance._instance = self\n",
    "        self.gold = 10000\n",
    "\n",
    "    @classmethod\n",
    "    def get_instance(cls):\n",
    "        if not cls._instance:\n",
    "            cls._instance = cls()\n",
    "        return cls._instance\n",
    "    \n",
    "\n",
    "class BalanceInterface(Balance):\n",
    "    def __init__(self):\n",
    "        Balance.get_instance()\n",
    "\n",
    "    def buy_item(self, price):\n",
    "        pass\n",
    "\n",
    "    def sell_item(self, price):\n",
    "        pass\n",
    "\n",
    "\n",
    "class Sword(BalanceInterface):\n",
    "    def buy_item(self):\n",
    "        balance = Balance.get_instance()  \n",
    "        if balance.gold < 3000:\n",
    "            return False\n",
    "        \n",
    "        balance.gold -= 3000\n",
    "\n",
    "    def sell_item(self):\n",
    "        balance = Balance.get_instance()\n",
    "        balance.gold += 1500\n",
    "\n",
    "\n",
    "class Shield(BalanceInterface):\n",
    "    def buy_item(self):\n",
    "        balance = Balance.get_instance()\n",
    "        if balance.gold < 2000:\n",
    "            return False\n",
    "        \n",
    "        balance.gold -= 2000\n",
    "\n",
    "    def sell_item(self):\n",
    "        balance = Balance.get_instance()\n",
    "        balance.gold += 1000\n",
    "\n",
    "\n",
    "def main():\n",
    "    sword = Sword()\n",
    "    shield = Shield()\n",
    "\n",
    "    balance = Balance.get_instance()\n",
    "    print(f\"보유 골드: {balance.gold}\")\n",
    "    sword.buy_item()\n",
    "    print(f\"sword 구매에 성공하였습니다. 남은 골드: {balance.gold}\")\n",
    "    sword.sell_item()\n",
    "    print(f\"sword 판매에 성공하였습니다. 남은 골드: {balance.gold}\")\n",
    "\n",
    "    # Shield로 아이템 구매 및 판매\n",
    "    shield.buy_item()\n",
    "    print(f\"shield 판매에 성공하였습니다. 남은 실드: {balance.gold}\")\n",
    "    shield.sell_item()\n",
    "    print(f\"shield 구매에 성공하였습니다. 남은 골드: {balance.gold}\")\n",
    "\n",
    "\n",
    "if __name__ == \"__main__\":\n",
    "    try:\n",
    "        main()\n",
    "\n",
    "    except SingletonException as exception:\n",
    "        print(\"Exception:\", exception)\n",
    "    \n",
    "    except Exception as exception:\n",
    "        print(\"Exception:\", exception)"
   ]
  },
  {
   "cell_type": "markdown",
   "metadata": {},
   "source": [
    "싱글톤을 통해 유저의 골드가 다른 객체에도 동일하게 반영되도록 하였습니다.<br>\n",
    "싱글톤은 오로지 하나의 인스턴스만 허용하므로, 다른 객체도 마찬가지로 Balance를 호출할 경우 항상 동일한 Balance를 호출합니다.<br>\n",
    "BalanceInterface 인터페이스는 Balance 클래스를 상속받아 이를 구현하는 모든 클래스가 동일한 객체에 접근할 수 있도록 중계하는 역할을 합니다.<br>\n",
    "<br>\n",
    "\n",
    "__참고사항으로, Python은 Java와 달리 인터페이스와 클래스 간의 구분을 명확히 하지 않으므로 인터페이스가 클래스를 상속받을 수 있습니다.<br>그러나 실제로 인터페이스와 클래스는 별개의 개념으로 이 구분이 뚜렷한 Java에서는 인터페이스와 클래스는 서로 상속이 불가능합니다.__ <br>\n",
    "(Java에서는 클래스가 인터페이스를 구현할 수 있으며, 이는 상속과 비슷하지만 개념은 다릅니다.) <br>\n",
    "<br>\n",
    "\n",
    "__요약하자면, 기본적으로 객체 지향 프로그래밍 언어는 인터페이스가 클래스를 상속받는 것을 허용하지 않으며,<br>Python은 인터페이스와 클래스를 구분하지 않고 하나의 클래스로 통합하여 취급하기 때문에 상속이 가능합니다.__ 여기도 이 특성을 바탕으로 코드를 작성하였습니다. <br>\n",
    "<br>\n",
    "다시 본론으로 돌아와서, 이 인터페이스를 구현하는 Sword와 Shield 클래스는 모두 인터페이스의 메소드를 구현합니다.<br>\n",
    "이전 코드와의 차이점은 각자가 상속받은 클래스로부터 독립적인 필드를 사용했다면, 여기서는 하나의 객체로부터 값을 받는다는 점이 다릅니다."
   ]
  },
  {
   "cell_type": "markdown",
   "metadata": {},
   "source": [
    "## 6. 다형성과 믹스인 클래스\n",
    "오버로딩, 오버라이딩, 구현 등을 통해 하나의 메소드로부터 다양한 동작을 할 수 있습니다.<br>\n",
    "이는 객체 지향 프로그래밍 언어의 큰 특징이고, 코드의 재사용성을 높여줍니다. <br>\n",
    "수많은 개발자들은 변수명, 함수명을 짓는 것에 어려움을 겪곤 하는데, 이는 명확하고 간결한 이름을 짓는 것은 프로젝트가 진행될수록 어려워지기 때문입니다.<br>\n",
    "코드를 재사용함으로써, 메소드명과 필드명을 일관적이게 유지할 수 있고 확장도 용이해집니다.<br>\n",
    "이러한 특성을 '다형성'이라고 합니다. 다형성의 예시는 위에서 계속 언급해왔으므로 추가로 언급하지는 않겠습니다.<br>\n",
    "<br>\n",
    "<br>\n",
    "### 믹스인 클래스 <br>\n",
    "믹스인 클래스는 다중 상속이 지원되는 언어에서만 사용되는 기능으로, 클래스의 기본적인 구조를 바꾸지 않으면서 특정 기능을 추가할 때 사용하는 클래스입니다.<br>\n",
    "게임으로 비유하자면 DLC 정도의 개념과 유사합니다."
   ]
  },
  {
   "cell_type": "code",
   "execution_count": 36,
   "metadata": {},
   "outputs": [
    {
     "name": "stdout",
     "output_type": "stream",
     "text": [
      " a + b = 8\n",
      " a - b = 2\n",
      " a * b = 15\n",
      " a / b = 1.6666666666666667\n",
      "ValueError: 잘못된 접근입니다.\n"
     ]
    }
   ],
   "source": [
    "class MultiMixin:\n",
    "    def multi(self, a, b):\n",
    "        return a * b\n",
    "    \n",
    "class DivMixin:\n",
    "    def div(self, a, b):\n",
    "        if b == 0:\n",
    "            raise ZeroDivisionError\n",
    "        return a / b\n",
    "    \n",
    "class Calculator(MultiMixin, DivMixin):\n",
    "    def __init__(self, a, b):\n",
    "        self.a = a\n",
    "        self.b = b\n",
    "\n",
    "    def plus(self, a, b):\n",
    "        return a + b\n",
    "    \n",
    "    def minus(self, a, b):\n",
    "        return a - b\n",
    "\n",
    "    def get_act(self, mode):\n",
    "        if mode == \"plus\":\n",
    "            return f\" a + b = {self.plus(self.a, self.b)}\"\n",
    "        \n",
    "        elif mode == \"minus\":\n",
    "            return f\" a - b = {self.minus(self.a, self.b)}\"\n",
    "        \n",
    "        elif mode == \"multi\":\n",
    "            return f\" a * b = {self.multi(self.a, self.b)}\"\n",
    "        \n",
    "        elif mode == \"div\":\n",
    "            return f\" a / b = {self.div(self.a, self.b)}\"\n",
    "        \n",
    "        else:\n",
    "            raise ValueError(\"잘못된 접근입니다.\")\n",
    "        \n",
    "\n",
    "def main():\n",
    "    calculator = Calculator(5, 3)\n",
    "\n",
    "    print(calculator.get_act(\"plus\"))\n",
    "    print(calculator.get_act(\"minus\"))\n",
    "    print(calculator.get_act(\"multi\"))\n",
    "    print(calculator.get_act(\"div\"))\n",
    "    print(calculator.get_act(\"test\"))\n",
    "\n",
    "if __name__ == \"__main__\":\n",
    "    try:\n",
    "        main()\n",
    "\n",
    "    except ValueError as exception:\n",
    "        print(\"ValueError:\", exception)\n",
    "\n",
    "    except ZeroDivisionError as exception:\n",
    "        print(\"ZeroDivisionError:\", exception)\n",
    "    \n"
   ]
  },
  {
   "cell_type": "markdown",
   "metadata": {},
   "source": [
    "이와 같이, 믹스인 클래스는 동작을 유지하면서 추가적인 기능을 사용하고자 할 때 이용합니다. <br>\n",
    "믹스인 클래스는 관습적으로 클래스 끝에 Mixin을 붙입니다.<br>\n",
    "<br>\n",
    "믹스인 클래스는 그 구조가 굉장히 단순하고 독립적이기 때문에 사용되는 경우에 사용됩니다.<br>\n",
    "그러나, 코드의 복잡성이 커진다는 단점으로 다중 상속이 지양되고 있는 시점입니다. <br>\n",
    "인터페이스와 컴포지션이라는 다중 상속을 사용하지 않으면서 코드의 기능을 추가할 수 있는 대체제도 존재하여 믹스인 클래스의 사용 추세는 줄어들고 있습니다.<br>\n",
    "<br>\n",
    "<br>\n",
    "## 7. 컴포지션\n",
    "컴포지션은 상속 대신 사용합니다. 지금까지 상속을 통해서 클래스 내에서 다른 클래스를 불러왔지만, 컴포지션은 클래스 안에 다른 클래스의 객체를 불러오는 방법입니다."
   ]
  },
  {
   "cell_type": "code",
   "execution_count": 1,
   "metadata": {},
   "outputs": [
    {
     "name": "stdout",
     "output_type": "stream",
     "text": [
      "Distance: 2.23606797749979\n"
     ]
    }
   ],
   "source": [
    "class Point:\n",
    "    def __init__(self, x, y):\n",
    "        self.x = x\n",
    "        self.y = y\n",
    "\n",
    "    def __str__(self):\n",
    "        return f\"({self.x}, {self.y})\"\n",
    "    \n",
    "class Distance:\n",
    "    def __init__(self, p1, p2):\n",
    "        self.p1 = Point(p1[0], p1[1])\n",
    "        self.p2 = Point(p2[0], p2[1])\n",
    "\n",
    "    def get_distance(self):\n",
    "        return ((self.p1.x - self.p2.x) ** 2 + (self.p1.y - self.p2.y) ** 2) ** 0.5\n",
    "    \n",
    "\n",
    "def main():\n",
    "    p1 = (1, 1)\n",
    "    p2 = (2, 3)\n",
    "\n",
    "    distance = Distance(p1, p2)\n",
    "    print(f\"Distance: {distance.get_distance()}\")\n",
    "\n",
    "if __name__ == \"__main__\":\n",
    "    main()"
   ]
  },
  {
   "cell_type": "markdown",
   "metadata": {},
   "source": [
    "이와 같이 컴포지션을 할 경우, 상속을 최소화할 수 있어 코드의 유지 보수성을 높일 수 있습니다.<br>\n",
    "<br>\n",
    "\n",
    "## 과제\n",
    "### 1. 주요 매직 메서드 예시 들기\n",
    "\n",
    "대표적인 메소드로 init, str, del이 있습니다. 모두 object 클래스 소속의 메소드이며,<br>\n",
    "각각 '인스턴스를 초기화', '비공식적이고 사람이 읽기 쉬운 문자열 표현', '메모리 할당된 인스턴스 해제'와 같은 기능을 가지고 있습니다.<br>\n",
    "또한, add, sub, mul과 같은 매직 메소드를 재정의하여, 연산자 오버로딩을 할 때도 사용합니다.<br>\n",
    "위에서 자세히 언급하였으므로, 여기서는 대략적인 것만 예시를 들었습니다."
   ]
  },
  {
   "cell_type": "code",
   "execution_count": 15,
   "metadata": {},
   "outputs": [
    {
     "name": "stdout",
     "output_type": "stream",
     "text": [
      "(벡터의 덧셈: 4, 6)\n",
      "(벡터의 뺄셈: -2, -2)\n",
      "벡터의 내적: 11\n",
      "(1, 2) 인스턴스 해제\n",
      "(3, 4) 인스턴스 해제\n"
     ]
    }
   ],
   "source": [
    "class Vector:\n",
    "    def __init__(self, x, y):\n",
    "        self.x = x\n",
    "        self.y = y\n",
    "\n",
    "    def __str__(self):\n",
    "        return f\"({self.x}, {self.y})\"\n",
    "\n",
    "class VectorOperation:\n",
    "    def __init__(self, v):\n",
    "        self.v = Vector(v.x, v.y)\n",
    "\n",
    "    def __str__(self):\n",
    "        return f\"{self.v.x}, {self.v.y}\"\n",
    "    \n",
    "    def __del__(self):\n",
    "        print(f\"({self}) 인스턴스 해제\")\n",
    "\n",
    "    def __add__(self, other):\n",
    "        return f\"{self.v.x + other.v.x}, {self.v.y + other.v.y}\"\n",
    "    \n",
    "    def __sub__(self, other):\n",
    "        return f\"{self.v.x - other.v.x}, {self.v.y - other.v.y}\"\n",
    "    \n",
    "    def __mul__(self, other):\n",
    "        return self.v.x * other.v.x + self.v.y * other.v.y\n",
    "    \n",
    "def main():\n",
    "    v1 = Vector(1, 2)\n",
    "    v2 = Vector(3, 4)\n",
    "\n",
    "    v1 = VectorOperation(v1)\n",
    "    v2 = VectorOperation(v2)\n",
    "\n",
    "    print(f\"(벡터의 덧셈: {v1 + v2})\")\n",
    "    print(f\"(벡터의 뺄셈: {v1 - v2})\")\n",
    "    print(f\"벡터의 내적: {v1 * v2}\")\n",
    "\n",
    "if __name__ == \"__main__\":\n",
    "    main()"
   ]
  },
  {
   "cell_type": "markdown",
   "metadata": {},
   "source": [
    "### 2. 특정 용도 데코레이터 만들어보기\n",
    "8주차에서 언급\n",
    "\n",
    "### 3. 게터와 세터를 사용하는 이유에 대해서 예시를 들어 설명하세요.\n",
    "getter와 setter 메소드를 이용하는 이유는 객체 지향 프로그래밍 언어의 특징인 '캡슐화'와 관련이 있습니다.<br>\n",
    "기본적으로 객체는 외부로부터 직접적인 접근을 차단하는 대신 메소드를 제공함으로써 객체가 원하는 상황에서만 자신의 정보를 제공하게 할 수 있습니다.<br>\n",
    "이 과정은 객체 외부에서는 알 필요가 없고 이를 통해 객체의 무결성을 보호할 수 있습니다.<br>\n",
    "예를 들어, 속도 필드를 갖고 있는 객체가 있다고 할 때, 외부에서 마음대로 값을 변경한다면 사용자는 속도를 음수로 입력할 수 있습니다.<br>\n",
    "이는 객체의 무결성을 훼손시키는 행위입니다. 즉, 객체 외부에서는 이 값을 마음대로 접근할 수 없게 하여 객체의 값을 보호하고 무결성을 유지할 수 있습니다."
   ]
  },
  {
   "cell_type": "code",
   "execution_count": null,
   "metadata": {},
   "outputs": [
    {
     "name": "stdout",
     "output_type": "stream",
     "text": [
      "현재 속도: 0\n",
      "현재 속도: 100\n",
      "ValueError: 속도는 0 이상이어야 합니다.\n"
     ]
    }
   ],
   "source": [
    "class Speed:\n",
    "    def __init__(self):\n",
    "        self._speed = 0\n",
    "\n",
    "    def get_speed(self):\n",
    "        return self._speed\n",
    "    \n",
    "    def set_speed(self, speed):\n",
    "        if speed < 0:\n",
    "            raise ValueError(\"속도는 0 이상이어야 합니다.\")\n",
    "        self._speed = speed\n",
    "\n",
    "    def __str__(self):\n",
    "        return f\"현재 속도: {self._speed}\"\n",
    "    \n",
    "def main():\n",
    "    speed = Speed()\n",
    "    print(speed)\n",
    "    speed.set_speed(100)\n",
    "    print(speed)\n",
    "    speed.set_speed(-10)\n",
    "\n",
    "if __name__ == \"__main__\":\n",
    "    try:\n",
    "        main()\n",
    "\n",
    "    except ValueError as exception:\n",
    "        print(\"ValueError:\", exception)"
   ]
  }
 ],
 "metadata": {
  "kernelspec": {
   "display_name": "base",
   "language": "python",
   "name": "python3"
  },
  "language_info": {
   "codemirror_mode": {
    "name": "ipython",
    "version": 3
   },
   "file_extension": ".py",
   "mimetype": "text/x-python",
   "name": "python",
   "nbconvert_exporter": "python",
   "pygments_lexer": "ipython3",
   "version": "3.12.4"
  }
 },
 "nbformat": 4,
 "nbformat_minor": 2
}
