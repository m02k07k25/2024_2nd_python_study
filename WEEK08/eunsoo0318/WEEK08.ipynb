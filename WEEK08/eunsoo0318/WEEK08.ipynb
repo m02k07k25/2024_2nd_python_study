{
 "cells": [
  {
   "cell_type": "markdown",
   "metadata": {},
   "source": [
    "# Python 8주차\n",
    "## 1. 데코레이터\n",
    "데코레이터는 함수나 클래스에 추가적인 기능을 동적으로 부여하는 Python의 강력한 기능입니다. @을 사용합니다.<br>\n",
    "정적 메소드와 클래스 메소드를 정의할 때 사용했었습니다."
   ]
  },
  {
   "cell_type": "code",
   "execution_count": null,
   "metadata": {},
   "outputs": [],
   "source": [
    "class MyClass:\n",
    "    @classmethod\n",
    "    def my_class_method(cls):\n",
    "        print('class method')\n",
    "\n",
    "    @staticmethod\n",
    "    def my_static_method():\n",
    "        print('static method')"
   ]
  },
  {
   "cell_type": "markdown",
   "metadata": {},
   "source": [
    "데코레이터는 다른 함수를 감싸는 형태로 동작하고, 기존 코드의 수정 없이 동작을 확장하거나 변경할 수 있습니다.<br>\n",
    "다른 기능들도 그렇듯, 데코레이터도 만들 수 있습니다."
   ]
  },
  {
   "cell_type": "code",
   "execution_count": 1,
   "metadata": {},
   "outputs": [
    {
     "name": "stdout",
     "output_type": "stream",
     "text": [
      "함수를 감쌉니다.\n",
      "Hello, World!\n",
      "함수를 감쌉니다.\n"
     ]
    }
   ],
   "source": [
    "def my_decorator(func):\n",
    "    def wrapper():\n",
    "        print('함수를 감쌉니다.')\n",
    "        func()\n",
    "        print('함수를 감쌉니다.')\n",
    "    return wrapper\n",
    "\n",
    "@my_decorator\n",
    "def hello():\n",
    "    print('Hello, World!')\n",
    "\n",
    "def main():\n",
    "    hello()\n",
    "\n",
    "if __name__ == '__main__':\n",
    "    main()"
   ]
  },
  {
   "cell_type": "markdown",
   "metadata": {},
   "source": [
    "데코레이터 내부에서 함수를 호출하기 때문에 위와 같이 동작하게 됩니다.<br>\n",
    "함수 실행 중 추가적인 작업을 수행하므로, 인증/권한 검사를 하거나, 캐싱을 할 때 자주 사용됩니다."
   ]
  },
  {
   "cell_type": "code",
   "execution_count": null,
   "metadata": {},
   "outputs": [
    {
     "name": "stdout",
     "output_type": "stream",
     "text": [
      "user1님에게 관리자의 권한을 부여하였습니다.\n",
      "user2님에게 관리자의 권한을 부여하였습니다.\n",
      "super_user님의 돈을 100000원으로 수정하였습니다.\n",
      "user2님의 관리자 권한을 박탈하였습니다.\n",
      "100원을 벌었습니다. user2님의 현재 돈은 100원입니다.\n",
      "당신은 해당 명령어에 접근할 권한이 없습니다.\n"
     ]
    }
   ],
   "source": [
    "class SingletonException(Exception):\n",
    "    def __init__(self):\n",
    "        super().__init__('관리자 계정은 1개만 생성할 수 있습니다.')\n",
    "\n",
    "def operator_command(func):\n",
    "    def wrapper(self, *args, **kwargs):\n",
    "        if not self.user.OP:\n",
    "            raise PermissionError('당신은 해당 명령어에 접근할 권한이 없습니다.')\n",
    "        return func(self, *args, **kwargs)\n",
    "    return wrapper\n",
    "\n",
    "class SuperUser:\n",
    "    _instance = None\n",
    "\n",
    "    def __init__(self, name):\n",
    "        if SuperUser._instance is not None:\n",
    "            raise SingletonException\n",
    "        SuperUser._instance = self\n",
    "        self.name = name\n",
    "        self.OP = True\n",
    "        self.money = 0\n",
    "\n",
    "    @classmethod\n",
    "    def get_instance(cls, name):\n",
    "        if cls._instance is None:\n",
    "            cls._instance = cls(name)\n",
    "        return cls._instance\n",
    "\n",
    "class User:\n",
    "    def __init__(self, name, OP=False):\n",
    "        self.name = name\n",
    "        self.OP = OP\n",
    "        self.money = 0\n",
    "\n",
    "\n",
    "class Commands:\n",
    "    def __init__(self, user):\n",
    "        self.user = user\n",
    "\n",
    "    @operator_command\n",
    "    def modify_money(self, value):\n",
    "        self.user.money = value\n",
    "        print(f'{self.user.name}님의 돈을 {value}원으로 수정하였습니다.')\n",
    "        return self.user.money\n",
    "    \n",
    "    @operator_command\n",
    "    def give_OP(self, user):\n",
    "        user.OP = True\n",
    "        print(f'{user.name}님에게 관리자의 권한을 부여하였습니다.')\n",
    "        return user.OP\n",
    "    \n",
    "    @operator_command\n",
    "    def remove_OP(self, user):\n",
    "        if user == self.user:\n",
    "            raise PermissionError('자신의 권한을 박탈할 수 없습니다.')\n",
    "        \n",
    "        if user == SuperUser.get_instance('super_user'):\n",
    "            raise PermissionError('최고 관리자의 권한을 박탈할 수 없습니다.')\n",
    "        \n",
    "        user.OP = False\n",
    "        print(f'{user.name}님의 관리자 권한을 박탈하였습니다.')\n",
    "        return user.OP\n",
    "    \n",
    "    def earn_money(self):\n",
    "        self.user.money += 100\n",
    "        print(f'100원을 벌었습니다. {self.user.name}님의 현재 돈은 {self.user.money}원입니다.')\n",
    "        return self.user.money\n",
    "    \n",
    "\n",
    "def main():\n",
    "    super_user = SuperUser.get_instance('super_user')\n",
    "    user1 = User('user1')\n",
    "    user2 = User('user2')\n",
    "\n",
    "    command_sudo = Commands(super_user)\n",
    "    command_user1 = Commands(user1)\n",
    "    command_user2 = Commands(user2)\n",
    "\n",
    "    command_sudo.give_OP(user1)\n",
    "    command_sudo.give_OP(user2)\n",
    "    command_sudo.modify_money(100000)\n",
    "    command_user1.remove_OP(user2)\n",
    "    command_user2.earn_money()\n",
    "    command_user2.modify_money(100000)\n",
    "\n",
    "\n",
    "if __name__ == '__main__':\n",
    "    try:\n",
    "        main()\n",
    "\n",
    "    except SingletonException as exception:\n",
    "        print(exception)\n",
    "\n",
    "    except PermissionError as exception:\n",
    "        print(exception)\n",
    "\n",
    "    except Exception as exception:\n",
    "        print(exception)"
   ]
  },
  {
   "cell_type": "markdown",
   "metadata": {},
   "source": [
    "위의 경우 메소드의 name 값도 받으므로, 가변 매개변수를 통해 다양한 값을 받을 수 있도록 하였습니다.<br>\n",
    "*args는 위치 가변 매개변수로, 리스트, 튜플을 받고, **kwargs는 키워드 가변 매개변수로 딕셔너리를 받습니다. <br>\n",
    "<br>\n",
    "다음은 피보나치 수열의 메모이제이션을 사용한 함수이며, 부가적으로<br>\n",
    "<br>\n",
    "함수의 실행 시간을 측정해서 출력해주는 데코레이터<br>\n",
    "함수를 실행하기 전에 사용자에게 진행 여부를 확인하는 데코레이터<br>\n",
    "<br>\n",
    "를 추가로 구현하였습니다."
   ]
  },
  {
   "cell_type": "code",
   "execution_count": 5,
   "metadata": {},
   "outputs": [
    {
     "name": "stdout",
     "output_type": "stream",
     "text": [
      "wrapper 함수 실행 시간: 0.017034초\n",
      "139423224561697880139724382870407283950070256587697307264108962948325571622863290691557658876222521294125\n"
     ]
    }
   ],
   "source": [
    "def memo(func):\n",
    "    cache = {}\n",
    "    def wrapper(n):\n",
    "        if n not in cache:\n",
    "            cache[n] = func(n)\n",
    "        return cache[n]\n",
    "    return wrapper\n",
    "\n",
    "def running_time(func):\n",
    "    import time\n",
    "    \n",
    "    def wrapper(*args, **kwargs):\n",
    "        if not hasattr(wrapper, \"_is_running\"):\n",
    "            wrapper._is_running = True  # 실행 중 플래그 설정\n",
    "            start = time.time()\n",
    "            result = func(*args, **kwargs)\n",
    "            end = time.time()\n",
    "            print(f'{func.__name__} 함수 실행 시간: {end - start:.6f}초')\n",
    "            wrapper._is_running = False  # 실행 완료 플래그 해제\n",
    "            return result\n",
    "        else:\n",
    "            # 내부 재귀 호출에서는 단순히 함수 실행\n",
    "            return func(*args, **kwargs)\n",
    "    return wrapper\n",
    "\n",
    "def ask_run(func):\n",
    "    def wrapper(*args, **kwargs):\n",
    "        if hasattr(wrapper, \"_is_running\") and wrapper._is_running:\n",
    "            return func(*args, **kwargs)\n",
    "        \n",
    "        response = input('함수를 실행할까요? (yes/no): ')\n",
    "        if response == 'yes':\n",
    "            wrapper._is_running = True\n",
    "            result = func(*args, **kwargs)\n",
    "            wrapper._is_running = False \n",
    "            return result\n",
    "    return wrapper\n",
    "\n",
    "@ask_run\n",
    "@running_time\n",
    "@memo\n",
    "def fib(n):\n",
    "    if n < 2:\n",
    "        return n\n",
    "    return fib(n-1) + fib(n-2)\n",
    "\n",
    "def main():\n",
    "    print(fib(500))\n",
    "\n",
    "if __name__ == '__main__':\n",
    "    main()"
   ]
  },
  {
   "cell_type": "markdown",
   "metadata": {},
   "source": [
    "hasattr()는 Python의 내장 함수로, 객체 내에 속성을 가지고 있는지의 여부를 확인합니다. 객체에 속성이 존재하면 True를 아니면 False를 반환합니다. <br>\n",
    "running_time과 ask_run은 재귀 함수와 같이 함수를 반복할 경우, 그 실행 시간을 여러번 물어볼 수 있습니다. 반복이 몇 번동안만 된다면 큰 문제가 없을 수 있지만, <br>\n",
    "위와 같이 순환하는 함수는 메모이제이션을 한다고 하더라도 시간 복잡도는 O(n)으로 최소 500번의 응답에 입력을 해야합니다.<br>\n",
    "이를 막기 위해 wrapper() 함수에 몇 가지 조건을 추가하였습니다. 두 작업 모두 비슷한 원리이므로, ask_run 부분만 설명합니다.<br>\n",
    "wrapper() 함수는 기본적으로 함수와 그 함수의 매개변수들을 모두 가변매개변수를 통해 받습니다.<br>\n",
    "_is_running은 wrapper() 함수 내의 플래그로 프로그램의 흐름을 제어하는데 사용됩니다.<br>\n",
    "처음 함수를 실행할 때는, is_running이 존재하지 않으므로, hasattr() 함수는 False를 반환합니다.<br>\n",
    "이후, wrapper()가 본격적으로 동작하기 시작하므로, _is_running을 True로 바꾸고, func(fib)을 실행합니다.<br>\n",
    "fib()은 또다른 fib()를 호출하는데, 이미 is_running이 존재하고, 이는 True이므로, 첫 조건문이 실행됩니다.<br>\n",
    "이 작업이 계속 반복되고 반복이 종료된 이후, is_running은 False가 됩니다.<br>\n",
    "이 작업을 통해 첫 번째 실행에만 실행 여부를 묻고, 두 번째부터는 묻지 않을 수 있게 됩니다.\n",
    "\n",
    "## 2. 이터레이터와 제너레이터\n",
    "이터레이터는 반복을 수행하기 위한 객체로 한 번에 하나씩 데이터를 반환합니다. <br>\n",
    "이터레이터는 이터러블로, 반복 가능하지만 그 역은 성립하지 않습니다."
   ]
  },
  {
   "cell_type": "code",
   "execution_count": 1,
   "metadata": {},
   "outputs": [
    {
     "name": "stdout",
     "output_type": "stream",
     "text": [
      "my_list는 반복 가능한 객체인가요? True\n",
      "my_list의 다음 값을 반환하는 속성을 가지고 있나요? False\n",
      "my_iterator는 반복 가능한 객체인가요? True\n",
      "my_iterator의 다음 값을 반환하는 속성을 가지고 있나요? True\n"
     ]
    }
   ],
   "source": [
    "my_list = [1, 2, 3]\n",
    "my_iterator = iter(my_list)\n",
    "print(f\"my_list는 반복 가능한 객체인가요? {hasattr(my_list, \"__iter__\")}\")\n",
    "print(f\"my_list의 다음 값을 반환하는 속성을 가지고 있나요? {hasattr(my_list, \"__next__\")}\")\n",
    "print(f\"my_iterator는 반복 가능한 객체인가요? {hasattr(my_iterator, \"__iter__\")}\")\n",
    "print(f\"my_iterator의 다음 값을 반환하는 속성을 가지고 있나요? {hasattr(my_iterator, \"__next__\")}\")"
   ]
  },
  {
   "cell_type": "markdown",
   "metadata": {},
   "source": [
    "리스트, 튜플, 딕셔너리와 같이 여러 번 반복할 수 있는 객체로, 실행 중 원할 때마다 반복할 수 있습니다. <br>\n",
    "그런 한편 이터레이터는 한 번만 반복할 수 있는 객체로, 한 번 호출시 한 번만 반복할 수 있습니다.<br>"
   ]
  },
  {
   "cell_type": "code",
   "execution_count": 15,
   "metadata": {},
   "outputs": [
    {
     "name": "stdout",
     "output_type": "stream",
     "text": [
      "1번째 순회: 이터레이터\n",
      "1 2 3 4 5 6 \n",
      "1번째 순회: 리스트\n",
      "1 2 3 4 5 6 \n",
      "\n",
      "2번째 순회: 이터레이터\n",
      "\n",
      "2번째 순회: 리스트\n",
      "1 2 3 4 5 6 \n",
      "\n",
      "3번째 순회: 이터레이터\n",
      "1 2 3 4 5 6 \n",
      "3번째 순회: 리스트\n",
      "1 2 3 4 5 6 \n",
      "\n"
     ]
    }
   ],
   "source": [
    "my_list = [1, 2, 3, 4, 5, 6]\n",
    "my_iterator = iter(my_list)\n",
    "\n",
    "for i in range(3):\n",
    "    print(f\"{i+1}번째 순회: 이터레이터\")\n",
    "    if i == 2:\n",
    "        my_iterator = iter(my_list)\n",
    "    for mi in my_iterator:\n",
    "        print(mi, end=' ')\n",
    "    print()\n",
    "\n",
    "    print(f\"{i+1}번째 순회: 리스트\")\n",
    "    for ml in my_list:\n",
    "        print(ml, end=' ')\n",
    "    print()\n",
    "    print()"
   ]
  },
  {
   "cell_type": "markdown",
   "metadata": {},
   "source": [
    "이와 같이 이터레이터 객체는 한 번 사용되면 다시 호출하지 않는 이상 더 이상 사용되지 않습니다. <br>\n",
    "이터레이터는 대량의 데이터를 효율적으로 처리하는 등의 메모리 관리를 할 때 유용하게 사용됩니다. <br>\n",
    "또한 값을 하나씩 반환하므로 다음과 같이 반복문을 사용하지 않더라도 사용할 수 있습니다."
   ]
  },
  {
   "cell_type": "code",
   "execution_count": 20,
   "metadata": {},
   "outputs": [
    {
     "name": "stdout",
     "output_type": "stream",
     "text": [
      "1 2 3 4 5 6 \n",
      "반복을 종료합니다.\n"
     ]
    }
   ],
   "source": [
    "def main():\n",
    "    my_list = [1, 2, 3, 4, 5, 6]\n",
    "    my_iterator = iter(my_list)\n",
    "\n",
    "\n",
    "    for i in range(7):\n",
    "        print(next(my_iterator), end=' ')\n",
    "\n",
    "if __name__ == '__main__':\n",
    "    try:\n",
    "        main()\n",
    "    except StopIteration:\n",
    "        print('\\n반복을 종료합니다.')"
   ]
  },
  {
   "cell_type": "markdown",
   "metadata": {},
   "source": [
    "만약 이터레이터를 직접 출력할 경우, 이터레이터의 메모리 주소(str)를 출력합니다. 값을 반환받기 위해서는 next() 메소드를 이용합니다.<br>\n",
    "이는 이터레이터의 다음 값을 반환하는 메소드입니다.<br>\n",
    "for 루프는 내부적으로 iter()과 next()를 자동으로 호출하기 때문에, 이와 같은 작업을 하지 않아도 됩니다.<br>\n",
    "또한, StopIteration 예외를 for은 자동으로 감지하여 반복을 종료하는 기능을 가집니다.\n",
    "\n",
    "### 제너레이터\n",
    "제너레이터는 이터레이터를 쉽게 생성하기 위한 함수입니다.<br>\n",
    "이는 데이터를 한 번에 하나씩 생성하여 메모리 효율적으로 동작합니다.<br>\n",
    "제너레이터는 이터레이터의 한 종류로, 호출 이후의 상태를 기억하여 다음 호출시 중단된 지점부터 실행합니다. 마찬가지로, 한 번만 반복 가능하므로,<br>\n",
    "반복 종료 후 StopIteration 예외를 실행합니다."
   ]
  },
  {
   "cell_type": "code",
   "execution_count": 21,
   "metadata": {},
   "outputs": [
    {
     "name": "stdout",
     "output_type": "stream",
     "text": [
      "1\n",
      "2\n",
      "3\n",
      "반복을 종료합니다.\n"
     ]
    }
   ],
   "source": [
    "def my_generator():\n",
    "    yield 1\n",
    "    yield 2\n",
    "    yield 3\n",
    "\n",
    "def main():\n",
    "    gener = my_generator()\n",
    "    print(next(gener))\n",
    "    print(next(gener))\n",
    "    print(next(gener))\n",
    "    print(next(gener))\n",
    "\n",
    "if __name__ == '__main__':\n",
    "    try:\n",
    "        main()\n",
    "    except StopIteration:\n",
    "        print('반복을 종료합니다.')"
   ]
  },
  {
   "cell_type": "markdown",
   "metadata": {},
   "source": [
    "다음과 같이 할 경우 제너레이터를 반복적으로 사용할 수 있습니다."
   ]
  },
  {
   "cell_type": "code",
   "execution_count": 25,
   "metadata": {},
   "outputs": [
    {
     "name": "stdout",
     "output_type": "stream",
     "text": [
      "0 1 2 3 4 5 6 7 8 9 10 11 12 13 14 15 16 17 18 19 20 21 22 23 24 25 26 27 28 29 30 31 32 33 34 35 36 37 38 39 40 41 42 43 44 45 46 47 48 49 50 51 52 53 54 55 56 57 58 59 60 61 62 63 64 65 66 67 68 69 70 71 72 73 74 75 76 77 78 79 80 81 82 83 84 85 86 87 88 89 90 91 92 93 94 95 96 97 98 99 100 101 "
     ]
    }
   ],
   "source": [
    "def iterable_generator():\n",
    "    a = 0\n",
    "    while True:\n",
    "        yield a\n",
    "        a += 1\n",
    "\n",
    "\n",
    "def main():\n",
    "    gen = iterable_generator()\n",
    "    for gens in gen:\n",
    "        print(gens, end=' ')\n",
    "        if gens > 100:\n",
    "            break\n",
    "\n",
    "if __name__ == '__main__':\n",
    "    main()"
   ]
  },
  {
   "cell_type": "markdown",
   "metadata": {},
   "source": [
    "## 3. 어노테이션\n",
    "Python에서 함수, 변수, 클래스에 대한 타입 힌트를 주거나 추가 정보를 제공하기 위해 주석을 사용합니다. <br>\n",
    "뿐만 아니라 우리는 어노테이션을 사용할 수 있습니다. 이는 타입에 대한 힌트를 제공하여 코드의 유지보수성을 높일 수 있습니다."
   ]
  },
  {
   "cell_type": "code",
   "execution_count": null,
   "metadata": {},
   "outputs": [],
   "source": [
    "from typing import Optional, Union\n",
    "\n",
    "\n",
    "class Node:\n",
    "    def __init__(self, data: Union[int, float]):\n",
    "        self.data: int = data  # 노드의 데이터 (정수 타입)\n",
    "        self.next: Optional[Node] = None  # 다음 노드를 가리키는 포인터 (초기값 None)\n",
    "\n",
    "\n",
    "class LinkedList:\n",
    "    def __init__(self):\n",
    "        self.head: Optional[Node] = None  # 리스트의 시작 노드 (초기값 None)\n",
    "\n",
    "    def append(self, data: Union[int, float]) -> None:\n",
    "        new_node = Node(data)  # 새 노드 생성\n",
    "        \n",
    "        # 리스트가 비어 있는 경우\n",
    "        if not self.head:\n",
    "            self.head = new_node\n",
    "            return\n",
    "        \n",
    "        # 마지막 노드로 이동\n",
    "        current: Node = self.head\n",
    "        while current.next:\n",
    "            current = current.next\n",
    "        \n",
    "        # 마지막 노드에 새 노드 연결\n",
    "        current.next = new_node\n",
    "\n",
    "    def display(self) -> None:\n",
    "        current = self.head\n",
    "        while current:\n",
    "            print(current.data, end=\" -> \")\n",
    "            current = current.next\n",
    "        print(\"None\")"
   ]
  },
  {
   "cell_type": "markdown",
   "metadata": {},
   "source": [
    "이 코드는 단순 연결 리스트를 구현한 것입니다. 어노테이션 사용시 위와 같이 Optional, Union을 사용하면 더 많은 힌트를 제공할 수 있습니다.<br>\n",
    "Optional은 Node를 반환할 수도, 아예 반환하지 않을 수 있을 수도 있다는 것을 알려주는 것이고, Union은 두 개 이상의 값을 입력 및 반환할 수 있음을 알려줍니다."
   ]
  },
  {
   "cell_type": "markdown",
   "metadata": {},
   "source": [
    "# 과제: 서울 지하철 길 찾기 알고리즘\n",
    "서울 지하철은 복잡하며, 최적의 길을 찾기 위해 네비게이션을 이용하는 경우가 있습니다.<br>\n",
    "이번에는 서울 지하철의 출발역과 도착역을 입력하면, 최선의 경로를 알려주는 알고리즘을 설계합니다. <br>\n",
    "전제 조건은 다음과 같습니다.<br>\n",
    "\n",
    "```markdown\n",
    "- 각 역의 간격은 고려하지 않는다. (고려한다고 하더라도 거의 의미가 없음)\n",
    "- 최적의 경로는 '최소 환승', '최단 거리' 두 개를 알려주고, 경로가 두 개 이상인 경우 임의로 지정된 하나의 경로만 알려준다.\n",
    "- 비용은 고려하지 않는다.\n",
    "```\n",
    "\n",
    "코드를 구현하기 위해 사용하거나 바탕이 된 알고리즘에 대해 설명합니다.\n",
    "\n",
    "## 1. 이중 연결 리스트\n",
    "연결 리스트는 데이터를 순차적으로 구현하기 위해 사용하는 동적인 자료구조입니다. Python의 경우 이미 리스트, 튜플, 딕셔너리는 동적이어서<br> \n",
    "이 의미가 많이 상쇄되지만, C와 같이 정적인 배열을 대체하기 위해 사용됩니다.<br>\n",
    "연결 리스트는 크게, 단순 연결 리스트, 이중 연결 리스트, 원형 연결 리스트로 나뉩니다.<br>\n",
    "세 연결 리스트는 공통적으로, 데이터와 그 이웃한 값을 가리키는 정보가 있습니다. <br>\n",
    "<br>\n",
    "비유하며 설명하자면, 학생 30명이 있는 반에서 출석번호대로 나열한다고 해볼 때 우리는 이 30명의 순서와 이름을 항상 외울 필요가 없습니다. <br>\n",
    "과장되어 설명하면, 1번 학생만 알아도 모든 학생을 알 수 있습니다. <br>\n",
    "<br>\n",
    "학생들에게 자신의 바로 뒷번호가 누군지만 외우게 한다면, 우리는 15번 학생이 누군지를 1번 학생에게 물어보더라도 알 수 있습니다. <br>\n",
    "1번 학생은 2번 학생이 누군지 알고 있으므로, 2번 학생에게 15번을 요청하면 되고, 2번도 마찬가지로 3번을, 3번은 4번을 이렇게 반복하여 15번 학생이 누군지를 알 수 있습니다.<br>\n",
    "또한, 만약 15번 학생이 전학을 가서 이제 없다고 하더라도, 14번 학생에게 16번 학생을 외우라고 하면 우리는 학생을 찾는데 아무런 문제가 없습니다. <br>\n",
    "추가로 만약에 18번과 19번 학생 사이에 학생 1명을 추가(18.5번)하고 싶다면, 18번 학생에게 18.5번 학생이 누군지를 알게 하고,<br>\n",
    "18.5번 학생에게 19번 학생이 누군지 알게 하면 됩니다.<br>\n",
    "이는 단순 연결 리스트를 비유한 것입니다. 학생은 노드고, 그 다음 학생이 누군지 알게 하는 것은 다음 노드가 무엇인지를 명시하는 것으로 비유할 수 있습니다.<br>\n",
    "노드의 추가 및 삭제도 위와 동일하게 진행됩니다.<br>\n",
    "이중 연결 리스트는, 자신의 앞 노드가 무엇인지도 알게 하는 것으로, 13번 학생이 12번과 14번 학생이 누군지를 알게 하는 것과 같습니다. <br>\n",
    "또한 원형 연결 리스트는 마지막 노드가 첫 번째 노드가 무엇인지를 알게 하는것으로, 30번 학생이 1번 학생이 누군지를 알게 하는 것과 같습니다.<br>\n",
    "Python은 기본적으로 이중 연결 리스트를 지원하는 모듈이 존재하지 않기 때문에 다음과 같이 직접 구현하였습니다."
   ]
  },
  {
   "cell_type": "code",
   "execution_count": 5,
   "metadata": {},
   "outputs": [
    {
     "name": "stdout",
     "output_type": "stream",
     "text": [
      "1 -> 2 -> 4 -> 5 -> 6 -> 7 -> 8 -> 9 -> 10\n"
     ]
    }
   ],
   "source": [
    "from typing import Optional, Union\n",
    "\n",
    "class Node:\n",
    "    def __init__(self, data: Union[int, float]):\n",
    "        self.data: Union[int, float] = data\n",
    "        self.prev: Optional[Node] = None\n",
    "        self.next: Optional[Node] = None\n",
    "\n",
    "class DoubleLinkedList:\n",
    "    def __init__(self):\n",
    "        self.head: Optional[Node] = None # 첫 번째 노드를 가리키는 포인터, 가상의 노드\n",
    "        self.tail: Optional[Node] = None # 마지막 노드를 가리키는 포인터, 가상의 노드\n",
    "\n",
    "    # 노드 추가\n",
    "    def append(self,data: Union[int, float]) -> None:\n",
    "        new_node = Node(data)\n",
    "        if not self.head:\n",
    "            self.head = new_node\n",
    "            self.tail = new_node\n",
    "            return\n",
    "        \n",
    "        self.tail.next = new_node\n",
    "        new_node.prev = self.tail\n",
    "        self.tail = new_node\n",
    "        return\n",
    "    \n",
    "    # 특정 값인 노드 삭제\n",
    "    def delete(self, data: Union[int, float]) -> None:\n",
    "        current: Optional[Node] = self.head\n",
    "\n",
    "        while current:  \n",
    "            if current.data == data:\n",
    "                if current == self.head:  \n",
    "                    self.head = current.next\n",
    "                    if self.head:  \n",
    "                        self.head.prev = None\n",
    "\n",
    "                elif current == self.tail:  \n",
    "                    self.tail = current.prev\n",
    "                    if self.tail:  \n",
    "                        self.tail.next = None\n",
    "\n",
    "                else:  \n",
    "                    current.prev.next = current.next\n",
    "                    current.next.prev = current.prev\n",
    "                del current  \n",
    "                return  \n",
    "            current = current.next\n",
    "\n",
    "    # 리스트를 문자열로 반환\n",
    "    def __str__(self) -> str:\n",
    "        result = \"\"\n",
    "        current: Optional[Node] = self.head\n",
    "        while current:\n",
    "            result += str(current.data)\n",
    "            if current.next:  # 다음 노드가 존재하면 화살표 추가\n",
    "                result += \" -> \"\n",
    "            current = current.next\n",
    "        return result\n",
    "    \n",
    "\n",
    "def main():\n",
    "    linked_list = DoubleLinkedList()\n",
    "    for i in range(10):\n",
    "        linked_list.append(i + 1)\n",
    "\n",
    "    linked_list.delete(3)\n",
    "    print(linked_list)\n",
    "\n",
    "if __name__ == '__main__':\n",
    "    main()"
   ]
  },
  {
   "cell_type": "markdown",
   "metadata": {},
   "source": [
    "## 2. 트리 구조와 그래프 구조\n",
    "\n",
    "### 트리\n",
    "트리 구조란 그래프의 일종으로, 한 노드에서 시작해서 다른 정점들을 순회하여 자기 자신에게 돌아오는 순환이 없는 연결 그래프입니다. <br>\n",
    "트리 구조는 크게 부모 노드와 자식 노드가 존재하며, 디렉토리의 형태와 비슷한 구조로 루트 노드를 제외한 모든 노드는 하나의 부모 노드를 가집니다."
   ]
  },
  {
   "cell_type": "code",
   "execution_count": 6,
   "metadata": {},
   "outputs": [
    {
     "name": "stdout",
     "output_type": "stream",
     "text": [
      "root\n",
      "child1\n",
      "child2\n",
      "child3\n"
     ]
    }
   ],
   "source": [
    "class Tree:\n",
    "    def __init__(self, data):\n",
    "        self.data = data\n",
    "        self.children = []\n",
    "    \n",
    "    def add_child(self, data):\n",
    "        self.children.append(Tree(data))\n",
    "    \n",
    "    def remove_child(self, data):\n",
    "        self.children = [child for child in self.children if child.data != data]\n",
    "    \n",
    "    def traverse(self):\n",
    "        print(self.data)\n",
    "        for child in self.children:\n",
    "            child.traverse()\n",
    "\n",
    "\n",
    "def main():\n",
    "    root = Tree('root')\n",
    "    root.add_child('child1')\n",
    "    root.add_child('child2')\n",
    "    root.add_child('child3')\n",
    "    root.traverse()\n",
    "\n",
    "if __name__ == '__main__':\n",
    "    main() "
   ]
  },
  {
   "cell_type": "markdown",
   "metadata": {},
   "source": [
    "그러나, 지하철 역 알고리즘에 사용하기에 지하철 역 간에는 상위와 하위 개념이 없기 때문에, 트리를 사용하기에는 부적합합니다."
   ]
  },
  {
   "cell_type": "markdown",
   "metadata": {},
   "source": [
    "### 그래프\n",
    "그래프는 트리와 비슷한 구조로, 노드와 간선으로 이루어진 자료구조입니다. 트리와 달리 상위와 하위의 개념이 없으며, 가중치라는 개념이 존재합니다."
   ]
  },
  {
   "cell_type": "code",
   "execution_count": 1,
   "metadata": {},
   "outputs": [
    {
     "name": "stdout",
     "output_type": "stream",
     "text": [
      "A -> [('B', 4), ('C', 5), ('D', 3)]\n",
      "B -> [('A', 4), ('C', 2)]\n",
      "C -> [('B', 2), ('A', 5)]\n",
      "D -> [('A', 3)]\n"
     ]
    }
   ],
   "source": [
    "class Graph:\n",
    "    def __init__(self):\n",
    "        # 인접 리스트로 그래프를 표현\n",
    "        self.graph = {}\n",
    "\n",
    "    def add_node(self, node):\n",
    "        # 노드 추가 (기본적으로 빈 리스트)\n",
    "        if node not in self.graph:\n",
    "            self.graph[node] = []\n",
    "\n",
    "    def add_edge(self, node1, node2, weight=1):\n",
    "        # 양방향 간선 추가\n",
    "        if node1 not in self.graph:\n",
    "            self.add_node(node1)\n",
    "        if node2 not in self.graph:\n",
    "            self.add_node(node2)\n",
    "        self.graph[node1].append((node2, weight))\n",
    "        self.graph[node2].append((node1, weight))\n",
    "\n",
    "    def display(self):\n",
    "        # 그래프 내용 출력\n",
    "        for node, edges in self.graph.items():\n",
    "            print(f\"{node} -> {edges}\")\n",
    "\n",
    "def main():\n",
    "    # 그래프 생성\n",
    "    g = Graph()\n",
    "\n",
    "    # 노드와 간선 추가\n",
    "    g.add_edge(\"A\", \"B\", 4)\n",
    "    g.add_edge(\"B\", \"C\", 2)\n",
    "    g.add_edge(\"C\", \"A\", 5)\n",
    "    g.add_edge(\"A\", \"D\", 3)\n",
    "\n",
    "    # 그래프 출력\n",
    "    g.display()\n",
    "    return 0\n",
    "\n",
    "if __name__ == '__main__':\n",
    "    main()"
   ]
  },
  {
   "cell_type": "markdown",
   "metadata": {},
   "source": [
    "또한, NetworkX라는 모듈을 통해서 그래프를 구현할 수 있습니다. 직접 만든 것보다 빠르고 더 많은 기능을 제공합니다.<br>\n",
    "기본 제공 모듈이 아니기 때문에 따로 설치를 해야 합니다."
   ]
  },
  {
   "cell_type": "code",
   "execution_count": 2,
   "metadata": {},
   "outputs": [
    {
     "name": "stderr",
     "output_type": "stream",
     "text": [
      "Matplotlib is building the font cache; this may take a moment.\n"
     ]
    },
    {
     "data": {
      "image/png": "[encoded data removed]",
      "text/plain": [
       "<Figure size 640x480 with 1 Axes>"
      ]
     },
     "metadata": {},
     "output_type": "display_data"
    }
   ],
   "source": [
    "import networkx as nx\n",
    "\n",
    "def main():\n",
    "    G = nx.Graph()\n",
    "    G.add_edge('A', 'B', weight=4)\n",
    "    G.add_edge('B', 'C', weight=2)\n",
    "    G.add_edge('C', 'A', weight=5)\n",
    "    G.add_edge('A', 'D', weight=3)\n",
    "\n",
    "    nx.draw(G, with_labels=True, font_weight='bold')\n",
    "    return 0\n",
    "\n",
    "if __name__ == '__main__':\n",
    "    main()"
   ]
  },
  {
   "cell_type": "markdown",
   "metadata": {},
   "source": [
    "각 역은 서로 상위와 하위 개념이 없으며, 서로가 얽혀있고 상황에 따라 가중치도 고려될 수 있으므로 역을 표현하는 것에는 그래프가 가장 적절합니다.<br>\n",
    "<br>\n",
    "\n",
    "## 3. BFS와 DFS\n",
    "BFS와 DFS는 탐색 알고리즘으로, 각각 너비 우선 탐색과 깊이 우선 탐색을 의미합니다.<br>\n",
    "BFS는 시작 노드와 가까운 노드부터 우선적으로 탐색합니다.<br>\n",
    "DFS는 시작 노드에서 인접한 한 노드에 접근 후 그 노드에서 최대한 깊이 내려간 후 다시 올라와 다른 노드를 탐색합니다."
   ]
  },
  {
   "cell_type": "code",
   "execution_count": 1,
   "metadata": {},
   "outputs": [
    {
     "name": "stdout",
     "output_type": "stream",
     "text": [
      "DFS: 1 2 7 6 8 3 4 5 \n",
      "BFS: 1 2 3 8 7 4 5 6 "
     ]
    }
   ],
   "source": [
    "from collections import deque\n",
    "\n",
    "def bfs(graph, start, visited):\n",
    "    queue = deque([start])\n",
    "    visited[start] = True\n",
    "    print(\"BFS:\", end=\" \")\n",
    "\n",
    "    while queue: # 큐의 값이 완전히 없어질 때까지 출력 (모든 값 출력 때까지)\n",
    "        current_node = queue.popleft() #첫 번째 큐 값 제거\n",
    "        print(current_node, end=\" \")\n",
    "\n",
    "        for next in graph[current_node]:\n",
    "            if not visited[next]:\n",
    "                queue.append(next) # 큐에 인접한 node 값 추가\n",
    "                visited[next] = True\n",
    "\n",
    "def dfs(graph, start, visited):\n",
    "\n",
    "    # 최소 실행시 'DFS: ' 인터페이스 출력\n",
    "    if not visited[start] and start == 1:\n",
    "        print(\"DFS: \", end=\"\")\n",
    "\n",
    "    if visited[start]:\n",
    "        return\n",
    "    \n",
    "    # node 방문\n",
    "    print(start, end=\" \")\n",
    "    visited[start] = True\n",
    "\n",
    "    for next in graph[start]: # 이웃한 node 재귀함수를 통해 호출\n",
    "        dfs(graph, next, visited)\n",
    "\n",
    "graph = [\n",
    "    [],\n",
    "    [2, 3, 8],\n",
    "    [1, 7],\n",
    "    [1, 4, 5],\n",
    "    [3, 5],\n",
    "    [3, 4],\n",
    "    [7],\n",
    "    [2, 6, 8],\n",
    "    [1, 7]\n",
    "]\n",
    "\n",
    "# 메인 함수 및 실행\n",
    "def main():\n",
    "    visited = [False] * 9\n",
    "\n",
    "    dfs(graph, 1, visited)\n",
    "    print()\n",
    "\n",
    "    visited = [False] * 9\n",
    "    bfs(graph, 1, visited)\n",
    "\n",
    "\n",
    "if __name__ == '__main__':\n",
    "    main()"
   ]
  },
  {
   "cell_type": "markdown",
   "metadata": {},
   "source": [
    "최적의 경로를 찾기 위해서는 해당 역까지 갈 수 있는 방법 중 가장 적은 역을 이용하여야 하므로, BFS가 적절합니다.<br>\n",
    "최소 환승 경로도 마찬가지로 BFS를 통해 구할 수 있지만, 단순히 BFS를 이용하면 모든 노드를 순회하게 되는 최악의 상황이 발생하게 되므로, <br>\n",
    "이에 대한 보완 사항은 추후에 다시 언급합니다."
   ]
  },
  {
   "cell_type": "markdown",
   "metadata": {},
   "source": [
    "## 4. 멀티스레딩\n",
    "멀티스레딩이란 프로그램의 두 개 이상의 기능을 동시에 처리하기 위해 사용하는 방법입니다.<br>\n",
    "예를 들어, 두 개의 함수 A, B에 대하여 기존 프로그래밍은 하나의 작업이 끝난 이후 다른 작업이 시작되었지만,<br>\n",
    "멀티스레딩은 두 개의 함수를 동시에 처리하여 CPU 활용을 극대화할 수 있습니다."
   ]
  },
  {
   "cell_type": "code",
   "execution_count": 14,
   "metadata": {},
   "outputs": [
    {
     "name": "stdout",
     "output_type": "stream",
     "text": [
      "Thread-1: 0\n",
      "Thread-2: 0\n",
      "Thread-1: 1\n",
      "Thread-2: 1\n",
      "Thread-1: 2\n",
      "Thread-2: 2\n",
      "Thread-1: 3\n",
      "Thread-2: 3\n",
      "Thread-1: 4\n",
      "Thread-2: 4\n"
     ]
    }
   ],
   "source": [
    "import threading\n",
    "import time\n",
    "\n",
    "# 스레드에서 실행할 함수 정의\n",
    "def print_numbers(thread_name, count):\n",
    "    for i in range(count):\n",
    "        print(f\"{thread_name}: {i}\")\n",
    "        time.sleep(0.01)\n",
    "\n",
    "def main():\n",
    "    # 스레드 생성\n",
    "    thread1 = threading.Thread(target=print_numbers, args=(\"Thread-1\", 5))\n",
    "    thread2 = threading.Thread(target=print_numbers, args=(\"Thread-2\", 5))\n",
    "\n",
    "    # 스레드 시작\n",
    "    thread1.start()\n",
    "    thread2.start()\n",
    "\n",
    "    # 메인 스레드에서 두 스레드가 끝날 때까지 대기\n",
    "    thread1.join()\n",
    "    thread2.join()\n",
    "\n",
    "if __name__ == '__main__':\n",
    "    main()"
   ]
  },
  {
   "cell_type": "markdown",
   "metadata": {},
   "source": [
    "### 동기화\n",
    "멀티스레딩은 각 스레드가 stack 영역에 저장되고, heap 영역에 공유하기 때문에 두 작업이 동시에 공유 자원을 사용할 때 문제가 발생할 수 있습니다.<br>\n",
    "비유적으로 설명하자면, Github에 merge할 때 발생하는 conflict와 같은 문제가 발생합니다. 이를 막기 위해 서로가 공유하는 자원을 참조할 때,<br>\n",
    "참조 우선순위를 통해 위의 문제를 해결할 수 있습니다.<br>"
   ]
  },
  {
   "cell_type": "code",
   "execution_count": 57,
   "metadata": {},
   "outputs": [
    {
     "name": "stdout",
     "output_type": "stream",
     "text": [
      "최종 counter 값: 2000000\n"
     ]
    }
   ],
   "source": [
    "import threading\n",
    "import time\n",
    "\n",
    "# 공유 자원\n",
    "counter = 0\n",
    "\n",
    "# 스레드에서 실행할 함수\n",
    "def increment_counter():\n",
    "    global counter\n",
    "    for _ in range(1000000):\n",
    "        counter += 1\n",
    "\n",
    "\n",
    "def main():\n",
    "    global counter\n",
    "    # 두 개의 스레드 생성\n",
    "    thread1 = threading.Thread(target=increment_counter)\n",
    "    thread2 = threading.Thread(target=increment_counter)\n",
    "\n",
    "    # 스레드 시작\n",
    "    thread1.start()\n",
    "    thread2.start()\n",
    "\n",
    "    # 스레드 종료 대기\n",
    "    thread1.join()\n",
    "    thread2.join()\n",
    "\n",
    "    print(f\"최종 counter 값: {counter}\")\n",
    "\n",
    "if __name__ == \"__main__\":\n",
    "    main()"
   ]
  },
  {
   "cell_type": "markdown",
   "metadata": {},
   "source": [
    "위 프로그램을 실행해본다면 상당히 높은 빈도로 정상적인 값을 출력합니다.<br>\n",
    "그 이유는 Python이 GIL(Global Interpreter Lock)이 멀티스레딩의 스레드가 하나씩 실행되도록 제어하기 때문입니다.<br>\n",
    "GIL은 I/O 작업 중에는 해제되므로, 파일 읽기/쓰기, 네트워크 요청 등에서 멀티스레딩을 활용할 수 있지만, 위와 같은 코드는 이에 해당하지 않아,<br>\n",
    "멀티스레딩 방법으로 구현한 것처럼 보이더라도, GIL에 의해 사실상 싱글 스레드 방식으로 작동합니다.<br>\n",
    "그러나, GIL이 항상 완벽하게 작동하지는 않기 때문에 아주 드물게 동기화 문제가 발생하여 2000000보다 작은 값이 나올 수도 있습니다.<br>\n",
    "\n",
    "### 데드락\n",
    "데드락은 서로가 서로의 점유한 자원을 기다리다가 프로그램이 정체되는 현상을 의미합니다."
   ]
  },
  {
   "cell_type": "code",
   "execution_count": 3,
   "metadata": {},
   "outputs": [
    {
     "name": "stdout",
     "output_type": "stream",
     "text": [
      "Thread-1: lock1 획득\n",
      "Thread-2: lock2 획득\n",
      "시간 초과!\n"
     ]
    }
   ],
   "source": [
    "import threading\n",
    "import time\n",
    "\n",
    "# 사용자 정의 예외\n",
    "class TimeExpirationException(Exception):\n",
    "    pass\n",
    "\n",
    "lock1 = threading.Lock()\n",
    "lock2 = threading.Lock()\n",
    "\n",
    "def thread1_task():\n",
    "    lock1.acquire()  # timeout 없이 lock1 획득\n",
    "    print(\"Thread-1: lock1 획득\")\n",
    "    time.sleep(1)\n",
    "    lock2.acquire()\n",
    "    print(\"Thread-1: lock2 획득\")\n",
    "    lock2.release()\n",
    "    lock1.release()\n",
    "\n",
    "def thread2_task():\n",
    "    lock2.acquire()\n",
    "    print(\"Thread-2: lock2 획득\")\n",
    "    time.sleep(1)\n",
    "    lock1.acquire()\n",
    "    print(\"Thread-2: lock1 획득\")\n",
    "    lock1.release()\n",
    "    lock2.release()\n",
    "\n",
    "# 스레드 상태 감시 함수\n",
    "def monitor_threads(threads, timeout):\n",
    "    start_time = time.time()\n",
    "    while any(thread.is_alive() for thread in threads):  # 스레드가 실행 중인지 확인\n",
    "        if time.time() - start_time > timeout:\n",
    "            raise TimeExpirationException\n",
    "        time.sleep(1)  # 1초 대기 후 다시 확인\n",
    "\n",
    "try:\n",
    "    thread1 = threading.Thread(target=thread1_task)\n",
    "    thread2 = threading.Thread(target=thread2_task)\n",
    "\n",
    "    thread1.start()\n",
    "    thread2.start()\n",
    "\n",
    "    # 타이머로 데드락 감시\n",
    "    monitor_threads([thread1, thread2], timeout=30)\n",
    "\n",
    "    thread1.join()\n",
    "    thread2.join()\n",
    "\n",
    "    print(\"모든 작업 완료!\")\n",
    "except TimeExpirationException as exception:\n",
    "    print(\"시간 초과!\")\n"
   ]
  },
  {
   "cell_type": "markdown",
   "metadata": {},
   "source": [
    "두 스레드는 서로가 서로의 lock을 받기 전까지 대기합니다.<br>\n",
    "서로가 서로의 lock을 주지 않고 상대의 lock을 받을 때까지 대기하므로, 위 코드는 정체됩니다.<br>\n",
    "사용자 지정 예외(TimeExpirationException: 시간 초과 예외)를 지정하여, 30초 안에 코드가 종료되지 않으면 실행이 강제로 중단되도록 하였습니다.<br>\n",
    "데드락 문제를 해결하기 위해서는 서로의 lock을 받는 순위를 통일시키거나, timeout을 통해 해당 작업을 포기하게 하는 등의 방법으로 해결할 수 있습니다."
   ]
  },
  {
   "cell_type": "markdown",
   "metadata": {},
   "source": [
    "## 5. 파일 입출력 및 데이터베이스\n",
    "서울 지하철은 수백 개의 역을 가지며, 이들은 서로 독립적인 것이 아닌 서로 만나기도 합니다.<br>\n",
    "이를 모두 하나하나 반영하며 노드를 추가하는 것은 정말 고된 작업입니다. 따라서, 이미 제공된 데이터베이스에서 정보를 받아 자동으로 역을 추가할 수 있습니다.<br>\n",
    "이때 사용하는 라이브러리가 pandas입니다."
   ]
  },
  {
   "cell_type": "code",
   "execution_count": null,
   "metadata": {},
   "outputs": [],
   "source": [
    "import pandas as pd\n",
    "\n",
    "def main():\n",
    "    # 엑셀 파일 읽기\n",
    "    df = pd.read_excel(\"data.xlsx\", sheet_name=0, usecols=\"A:B\", nrows=40)\n",
    "\n",
    "    # 결과 출력\n",
    "    print(df)\n",
    "\n",
    "if __name__ == '__main__':\n",
    "    pass\n",
    "    # main() : 파일이 없어 실행 불가"
   ]
  },
  {
   "cell_type": "markdown",
   "metadata": {},
   "source": [
    "또한, SQL을 통해서 역 정보를 가져오는 방법도 있습니다. 이는 대규모 데이터 처리에 유리하며, 더욱 쾌적한 성능을 보여줍니다. <br>\n",
    "다음은 PostgreSQL을 통한 파일 입출력 방법입니다."
   ]
  },
  {
   "cell_type": "code",
   "execution_count": null,
   "metadata": {},
   "outputs": [],
   "source": [
    "import pandas as pd\n",
    "import psycopg2\n",
    "\n",
    "def main():\n",
    "    # PostgreSQL 데이터베이스 연결\n",
    "    conn = psycopg2.connect(\n",
    "        dbname=\"your_database\",  # 데이터베이스 이름\n",
    "        user=\"your_username\",    # 사용자 이름\n",
    "        password=\"your_password\",# 비밀번호\n",
    "        host=\"localhost\",        # 호스트 주소\n",
    "        port=\"5432\"              # 포트 (기본값 5432)\n",
    "    )\n",
    "\n",
    "    # SQL 쿼리 실행 및 데이터 가져오기\n",
    "    query = \"SELECT column1, column2 FROM your_table LIMIT 40;\"\n",
    "    df = pd.read_sql_query(query, conn)\n",
    "\n",
    "    # 연결 닫기\n",
    "    conn.close()\n",
    "\n",
    "    # 데이터 출력\n",
    "    print(df)\n",
    "\n",
    "if __name__ == '__main__':\n",
    "    pass\n",
    "    # main() : 데이터베이스 연결 정보가 없어 실행 불가"
   ]
  },
  {
   "cell_type": "markdown",
   "metadata": {},
   "source": [
    "서울 지하철 역은 노드가 많지 않고 단순한 탐색만을 진행하므로, pandas를 이용하는 방법이 더 직관적이고 간편할 수 있습니다."
   ]
  }
 ],
 "metadata": {
  "kernelspec": {
   "display_name": "base",
   "language": "python",
   "name": "python3"
  },
  "language_info": {
   "codemirror_mode": {
    "name": "ipython",
    "version": 3
   },
   "file_extension": ".py",
   "mimetype": "text/x-python",
   "name": "python",
   "nbconvert_exporter": "python",
   "pygments_lexer": "ipython3",
   "version": "3.12.4"
  }
 },
 "nbformat": 4,
 "nbformat_minor": 2
}
