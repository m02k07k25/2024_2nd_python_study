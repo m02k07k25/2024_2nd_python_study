{
 "cells": [
  {
   "cell_type": "markdown",
   "metadata": {},
   "source": [
    "1. iterable 이터러블\n",
    "▶  객체 안에 있는 원소(element)를 하나씩 반환 가능한 객체, 이터러블(Iterable) 객체는 iter() 라는 함수의 입력으로 들어갑니다. 이터러블(Iterable) 객체는 iter() 라는 함수의 입력으로 들어갑니다.\n",
    "\n",
    "2. iterator 이터레이터\n",
    "▶ Iterator의 __next__() 나 내장 함수인 next()를 부르면서, 원소(element)를 순차적으로 반환 할 수 있는 객체,이터레이터(Iterator)는 iter()라는 함수가 반환하는 객체입니다. 이터레이터(Iterator)가 다음 원소를 계속 반환하다가, 끝에 다달아 반환할 원소가 없을 경우 예외문인 StopIteration이 발생하게 됩니다.\n",
    "즉,Iterable 객체 A → iter(A) → Iterator 객체 B → next(B) → element (data)\n"
   ]
  },
  {
   "cell_type": "code",
   "execution_count": null,
   "metadata": {},
   "outputs": [
    {
     "ename": "SyntaxError",
     "evalue": "invalid syntax (2757121075.py, line 4)",
     "output_type": "error",
     "traceback": [
      "\u001b[1;36m  Cell \u001b[1;32mIn[1], line 4\u001b[1;36m\u001b[0m\n\u001b[1;33m    <list_iterator object at 0x104fe2278>\u001b[0m\n\u001b[1;37m    ^\u001b[0m\n\u001b[1;31mSyntaxError\u001b[0m\u001b[1;31m:\u001b[0m invalid syntax\n"
     ]
    }
   ],
   "source": [
    ">>> iterable_object = [1, 2, 3, 4, 5]\n",
    ">>> iterator_object = iter(iterable_object)\n",
    ">>> iterator_object\n",
    "<list_iterator object at 0x104fe2278>\n",
    ">>> next(iterator_object)\n",
    "1\n",
    ">>> next(iterator_object)\n",
    "2\n",
    ">>> next(iterator_object)\n",
    "3\n",
    ">>> next(iterator_object)\n",
    "4\n",
    ">>> next(iterator_object)\n",
    "5\n",
    ">>> next(iterator_object)                   //6번째 호출에 StopIteration이 발생\n",
    "Traceback (most recent call last):\n",
    "  File \"<stdin>\", line 1, in <module>\n",
    "StopIteration"
   ]
  },
  {
   "cell_type": "markdown",
   "metadata": {},
   "source": [
    "3. generator 제너레이터\n",
    "▶  iterator를 생성하는 함수이고, generator로 생성한 객체는 iterator와 마찬가지로 next()함수를 호출해 다음 값 얻기 가능하다. 이터레이터와는 다르게 yield 라는 문법을 사용하므로 해당 함수(generator)가 종료하지 않고, 그대로 유지된다. \n",
    "yield 는 일반 함수의 return과 같이 값을 반환 하지만, return과 다르게 해당 함수(generator)가 종료하지 않고, 그대로 유지되고 다음 순서의 제너레이터(Generator)가 호출되면, 멈추었던 yield 자리에서 다시 함수가 동작하게 되는 원리이다.\n",
    "즉,제너레이터(Generator) → next(제너레이터) → 제너레이터 함수 실행 → yield를 만나 next(제너레이터가) 호출된 곳으로 값을 반환 (제너레이터 종료 ❌) → 다시 next(제너레이터) → 멈추었던 yield부터 재실행"
   ]
  },
  {
   "cell_type": "code",
   "execution_count": null,
   "metadata": {},
   "outputs": [],
   "source": [
    "def my_generator():\n",
    "    print(\"첫 번째 값 생성\")\n",
    "    yield 1\n",
    "    print(\"두 번째 값 생성\")\n",
    "    yield 2\n",
    "    print(\"세 번째 값 생성\")\n",
    "    yield 3\n",
    "\n",
    "# 사용\n",
    "gen = my_generator()\n",
    "\n",
    "print(next(gen))  # 첫 번째 값 생성, 1 출력\n",
    "print(next(gen))  # 두 번째 값 생성, 2 출력\n",
    "print(next(gen))  # 세 번째 값 생성, 3 출력\n",
    "# print(next(gen))  을 실행하면 StopIteration 발생\n"
   ]
  },
  {
   "cell_type": "markdown",
   "metadata": {},
   "source": [
    "어노테이션(annotation)\n",
    "-파이썬은 다른 언어와 달리 변수에 명시적으로 자료형을 명시하지 않는다. 이를 보완{변수의 예상 타입을 명시하는데 사용 (변수의 실제 타입을 강제 X)}하기 위해 annotation 사용하며 이점으로는 다음과 같다.\n",
    "1. 코드의 가독성 증가\n",
    "2. 정적 타입 검사 도구(mypy)를 사용해 타입 오류를 사전에 찾기 위한 목적으로 사용\n",
    "어노테이션의 종류\n",
    "1. 변수 어노테이션\n",
    ":변수 타입 어노테이션은 변수의 예상 타입을 명시하는데 사용됩니다. 이는 주로 코드의 가독성을 높이고, 정적 타입 검사 도구(mypy같은)를 사용하여 타입 오류를 사전에 잡아내기 위한 목적으로 사용\n",
    "2. 기본 자료형 어노테이션\n",
    ":어노테이션 기본 형태입니다. 주로 변수나 자룟값의 변수뒤에 :와 = 명시함으로써, 자료형을 메모합니다.\n",
    "3. 컬렉션 자료형 어노테이션\n",
    ":Python에서 리스트(List), 튜플(Tuple), 딕셔너리(Dictionary), 세트(Set) 등의 자료형에 어떤 타입의 데이터를 포함하는지 명시하기 위해 사용됩니다. Python의 typing 모듈을 활용하여 복잡한 자료 구조에도 타입 정보를 추가할 수 있습니다. 컬렉션 자료형은 typing 모듈에서 가져올 수 있고 어노테이션을 표현할 때는 []를 사용합니다.\n",
    "4. 함수 어노테이션\n",
    ":사용자 함수를 만들 경우, 함수안에 있는 변수들을 어노테이션으로 정의할 수 있습니다., 함수의 매개변수와 반환값에 타입 힌트를 추가하는 것을 의미합니다\n",
    "5. 클래스 어노테이션\n",
    ":클래스 어노테이션은 클래스의 속성에 타입 힌트를 제공하는 기능입니다. Python에서는 클래스 내부에서 정의된 변수(속성)나 클래스 메서드의 매개변수, 반환값에 타입 정보를 명시할 수 있습니다.즉,코드의 가독성을 높이고 타입 정보를 통해 정적 분석 도구(예: mypy)나 IDE의 자동 완성 기능을 활용할 수 있습니다.\n",
    "6. 옵셔널\n",
    "변수가 특정 타입이거나 변수의 메모리값이 None일 경우 Optional을 사용한다\n",
    "\n",
    " \n"
   ]
  },
  {
   "cell_type": "code",
   "execution_count": null,
   "metadata": {},
   "outputs": [],
   "source": [
    "#기본 자료형 어노테이션\n",
    "name='peter'\n",
    "name : str = 'peter' #자료형을 메모\n",
    "\n",
    "\n",
    "print(name)\n",
    "print(type(name))"
   ]
  },
  {
   "cell_type": "code",
   "execution_count": null,
   "metadata": {},
   "outputs": [
    {
     "name": "stdout",
     "output_type": "stream",
     "text": [
      "['one', 'two', 'three']\n",
      "(1, 2, 3)\n",
      "{'one': 1, 'two': 2, 'three': 3}\n",
      "{1, 2, 3}\n"
     ]
    }
   ],
   "source": [
    "#컬렉션 자료형 어노테이션\n",
    "from typing import List, Tuple, Dict, Set  # 타이핑 모듈 설치해야한다\n",
    "\n",
    "#컬렉션 자료형 어노테이션: [] 사용\n",
    "# 리스트 어노테이션\n",
    "a: List[str] = ['one', 'two', 'three']\n",
    "\n",
    "# 튜플 어노테이션\n",
    "b: Tuple[int, int, int] = (1, 2, 3)\n",
    "\n",
    "# 딕셔너리 어노테이션\n",
    "c: Dict[str, int] = {'one': 1, 'two': 2, 'three': 3}\n",
    "\n",
    "# 세트 어노테이션\n",
    "d: Set[int] = {1, 2, 3}\n",
    "\n",
    "print(a)\n",
    "print(b)\n",
    "print(c)\n",
    "print(d)\n"
   ]
  },
  {
   "cell_type": "code",
   "execution_count": null,
   "metadata": {},
   "outputs": [
    {
     "data": {
      "text/plain": [
       "{'a': int, 'b': int, 'return': int}"
      ]
     },
     "execution_count": 5,
     "metadata": {},
     "output_type": "execute_result"
    }
   ],
   "source": [
    "#함수 어노테이션\n",
    "def add(a,b):\n",
    "    return a+b\n",
    "#a,b int형 변환\n",
    "def add(a: int, b:int)->int:\n",
    "    return a+b\n",
    "\n",
    "add(7,5)\n",
    "add('칠', '오')\n",
    "#함수의 어노테이션 확인\n",
    "add.__annotations__"
   ]
  },
  {
   "cell_type": "code",
   "execution_count": null,
   "metadata": {},
   "outputs": [],
   "source": [
    "#클래스 어노테이션\n",
    "class Student:\n",
    "    def __init__(self, name:str, age:int):\n",
    "        self.name=name\n",
    "        self.age=age\n",
    "    def __str__(self)->str:\n",
    "        return '이름: ' + self.name + '나이' + str(self.age)\n",
    "# print() 함수만 쓴다면 리턴값은 None으로 나오지만, 리턴값을 설정해 메모리\n",
    "#값을 넣음으로써 오버라이딩 된 것\n",
    "\n",
    "def a(s:Student) ->None:\n",
    "    print(f'이름:{s.name}, 나이:{s.age} 🍖')\n",
    "\n",
    "student=Student('peter', 25)    # class문->__init__->__str__ 오버라이딩\n",
    "print(student)\n",
    "a(student)\n"
   ]
  },
  {
   "cell_type": "code",
   "execution_count": null,
   "metadata": {},
   "outputs": [],
   "source": [
    "#옵셔널\n",
    "#옵셔널 모듈 설치\n",
    "from typing import Optional\n",
    "#함수 지정\n",
    "def find_score(name: str, scores: Dict[str,float])->Optional[float]:\n",
    "    return scores.get(name)\n",
    "\n",
    "print(find_score('김사과', {'김사과': 80.5, '오렌지':40.8, '반하나':90.4}))"
   ]
  }
 ],
 "metadata": {
  "kernelspec": {
   "display_name": "my_env",
   "language": "python",
   "name": "python3"
  },
  "language_info": {
   "codemirror_mode": {
    "name": "ipython",
    "version": 3
   },
   "file_extension": ".py",
   "mimetype": "text/x-python",
   "name": "python",
   "nbconvert_exporter": "python",
   "pygments_lexer": "ipython3",
   "version": "3.11.9"
  }
 },
 "nbformat": 4,
 "nbformat_minor": 2
}
